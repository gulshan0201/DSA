{
  "nbformat": 4,
  "nbformat_minor": 0,
  "metadata": {
    "colab": {
      "provenance": [],
      "authorship_tag": "ABX9TyOwtPpCxuAMEFGJCEBgNigY",
      "include_colab_link": true
    },
    "kernelspec": {
      "name": "python3",
      "display_name": "Python 3"
    },
    "language_info": {
      "name": "python"
    }
  },
  "cells": [
    {
      "cell_type": "markdown",
      "metadata": {
        "id": "view-in-github",
        "colab_type": "text"
      },
      "source": [
        "<a href=\"https://colab.research.google.com/github/gulshan0201/DSA/blob/main/Concepts_of_DSA.ipynb\" target=\"_parent\"><img src=\"https://colab.research.google.com/assets/colab-badge.svg\" alt=\"Open In Colab\"/></a>"
      ]
    },
    {
      "cell_type": "code",
      "execution_count": 2,
      "metadata": {
        "colab": {
          "base_uri": "https://localhost:8080/"
        },
        "id": "mS0CoHC0U6bq",
        "outputId": "2b7368bd-39d4-48ec-90a5-4f330ead0eff"
      },
      "outputs": [
        {
          "output_type": "stream",
          "name": "stdout",
          "text": [
            "90\n",
            "88\n"
          ]
        }
      ],
      "source": [
        "from collections import Counter\n",
        "\n",
        "Pointer = namedtuple('Pointer',['x','y'])\n",
        "\n",
        "point = Pointer(90,88)\n",
        "\n",
        "print(point.x)\n",
        "print(point.y)"
      ]
    },
    {
      "cell_type": "code",
      "source": [
        "from collections import namedtuple\n",
        "\n",
        "Employee = namedtuple('Employee',['id','name','designation','sallary'])\n",
        "\n",
        "emp1 = Employee('11','Jack','Developer',20000)\n",
        "emp2 = Employee('12','Rock','Sales lead',7000)\n",
        "\n",
        "print(emp1.name)\n",
        "\n",
        "for emp in [emp1,emp2]:\n",
        "  print(f\"{emp.name} works as a {emp.designation} and earns a sallary of {emp.sallary}\")"
      ],
      "metadata": {
        "id": "OiQDw6X5SWS7",
        "outputId": "207a2f68-96d9-49e1-c5a4-2b08fefe04f6",
        "colab": {
          "base_uri": "https://localhost:8080/"
        }
      },
      "execution_count": 1,
      "outputs": [
        {
          "output_type": "stream",
          "name": "stdout",
          "text": [
            "Jack\n",
            "Jack works as a Developer and earns a sallary of 20000\n",
            "Rock works as a Sales lead and earns a sallary of 7000\n"
          ]
        }
      ]
    }
  ]
}