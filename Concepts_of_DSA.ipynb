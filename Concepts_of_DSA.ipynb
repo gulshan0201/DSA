{
  "nbformat": 4,
  "nbformat_minor": 0,
  "metadata": {
    "colab": {
      "provenance": [],
      "authorship_tag": "ABX9TyNwlSCMxopBm+0eINSAzBsi",
      "include_colab_link": true
    },
    "kernelspec": {
      "name": "python3",
      "display_name": "Python 3"
    },
    "language_info": {
      "name": "python"
    }
  },
  "cells": [
    {
      "cell_type": "markdown",
      "metadata": {
        "id": "view-in-github",
        "colab_type": "text"
      },
      "source": [
        "<a href=\"https://colab.research.google.com/github/gulshan0201/DSA/blob/main/Concepts_of_DSA.ipynb\" target=\"_parent\"><img src=\"https://colab.research.google.com/assets/colab-badge.svg\" alt=\"Open In Colab\"/></a>"
      ]
    },
    {
      "cell_type": "code",
      "execution_count": 2,
      "metadata": {
        "colab": {
          "base_uri": "https://localhost:8080/"
        },
        "id": "mS0CoHC0U6bq",
        "outputId": "2b7368bd-39d4-48ec-90a5-4f330ead0eff"
      },
      "outputs": [
        {
          "output_type": "stream",
          "name": "stdout",
          "text": [
            "90\n",
            "88\n"
          ]
        }
      ],
      "source": [
        "from collections import Counter\n",
        "\n",
        "Pointer = namedtuple('Pointer',['x','y'])\n",
        "\n",
        "point = Pointer(90,88)\n",
        "\n",
        "print(point.x)\n",
        "print(point.y)"
      ]
    },
    {
      "cell_type": "code",
      "source": [
        "from collections import namedtuple\n",
        "\n",
        "Employee = namedtuple('Employee',['id','name','designation','sallary'])\n",
        "\n",
        "emp1 = Employee('11','Jack','Developer',20000)\n",
        "emp2 = Employee('12','Rock','Sales lead',7000)\n",
        "\n",
        "print(emp1.name)\n",
        "\n",
        "for emp in [emp1,emp2]:\n",
        "  print(f\"{emp.name} works as a {emp.designation} and earns a sallary of {emp.sallary}\")"
      ],
      "metadata": {
        "id": "OiQDw6X5SWS7",
        "outputId": "207a2f68-96d9-49e1-c5a4-2b08fefe04f6",
        "colab": {
          "base_uri": "https://localhost:8080/"
        }
      },
      "execution_count": 1,
      "outputs": [
        {
          "output_type": "stream",
          "name": "stdout",
          "text": [
            "Jack\n",
            "Jack works as a Developer and earns a sallary of 20000\n",
            "Rock works as a Sales lead and earns a sallary of 7000\n"
          ]
        }
      ]
    },
    {
      "cell_type": "code",
      "source": [
        "from collections import deque\n",
        "\n",
        "s = deque()\n",
        "\n",
        "s.append(10)\n",
        "s.append(30)\n",
        "s.appendleft(2)\n",
        "\n",
        "print(s)\n",
        "\n",
        "s.popleft()\n",
        "print(s)\n",
        "\n",
        "s.extend([2,3,4])\n",
        "s.rotate(1)\n",
        "print(s)\n",
        "\n",
        "\n",
        "s.extend([22,90,88])\n",
        "s.rotate(-2) # in this case the deque moves the first two no to end of the list\n",
        "print(s)"
      ],
      "metadata": {
        "colab": {
          "base_uri": "https://localhost:8080/"
        },
        "id": "Jjc6URr4bLhn",
        "outputId": "6d5a2e4f-b6a5-4078-d927-749dd51df355"
      },
      "execution_count": 15,
      "outputs": [
        {
          "output_type": "stream",
          "name": "stdout",
          "text": [
            "deque([2, 10, 30])\n",
            "deque([10, 30])\n",
            "deque([4, 10, 30, 2, 3])\n",
            "deque([30, 2, 3, 22, 90, 88, 4, 10])\n"
          ]
        }
      ]
    },
    {
      "cell_type": "code",
      "source": [],
      "metadata": {
        "id": "txksxMN1bYVj"
      },
      "execution_count": null,
      "outputs": []
    }
  ]
}