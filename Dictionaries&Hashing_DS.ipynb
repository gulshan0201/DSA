{
  "nbformat": 4,
  "nbformat_minor": 0,
  "metadata": {
    "colab": {
      "provenance": []
    },
    "kernelspec": {
      "name": "python3",
      "display_name": "Python 3"
    },
    "language_info": {
      "name": "python"
    }
  },
  "cells": [
    {
      "cell_type": "code",
      "source": [
        "size = 10\n",
        "buckets = [[] for _ in range(size)]\n",
        "print(buckets)\n",
        "# Output: [[], [], [], []]"
      ],
      "metadata": {
        "colab": {
          "base_uri": "https://localhost:8080/"
        },
        "id": "OUpMZZinOfvB",
        "outputId": "86db2706-7578-49f4-d058-31f458cb37f5"
      },
      "execution_count": null,
      "outputs": [
        {
          "output_type": "stream",
          "name": "stdout",
          "text": [
            "[[], [], [], [], [], [], [], [], [], []]\n"
          ]
        }
      ]
    },
    {
      "cell_type": "code",
      "execution_count": null,
      "metadata": {
        "colab": {
          "base_uri": "https://localhost:8080/"
        },
        "id": "hFNgbfjENRN_",
        "outputId": "3fb11666-8a02-458a-b631-dbdc610aa853"
      },
      "outputs": [
        {
          "output_type": "stream",
          "name": "stdout",
          "text": [
            "{'names': 'Gulshan', 'age': 24, 'city': 'VZM'}\n"
          ]
        }
      ],
      "source": [
        "def dict(key , values):\n",
        "  my_dict= {}\n",
        "\n",
        "  if len(key) != len(values):\n",
        "    print(\"Error key and value must match the length\")\n",
        "    return None\n",
        "\n",
        "  for i in range(0, len(key)):\n",
        "    my_dict[key[i]] = values[i]\n",
        "\n",
        "  return my_dict\n",
        "\n",
        "\n",
        "key_list = [\"names\",\"age\",\"city\"]\n",
        "value_list = [\"Gulshan\", 24, \"VZM\"]\n",
        "\n",
        "result = dict(key_list, value_list)\n",
        "print(result)"
      ]
    },
    {
      "cell_type": "code",
      "source": [
        "class Example:\n",
        "    def __init__(self, value):\n",
        "        self.value = value   # Stored in object\n",
        "        doubled = value * 2  # Temporary, not stored in object\n",
        "        print(\"Doubled:\", doubled)\n",
        "\n",
        "obj = Example(5)\n",
        "print(obj.value)"
      ],
      "metadata": {
        "colab": {
          "base_uri": "https://localhost:8080/"
        },
        "id": "dx2gotUxSg0g",
        "outputId": "6acac95f-c18d-41aa-f4b5-bb1d0027d5a4"
      },
      "execution_count": null,
      "outputs": [
        {
          "output_type": "stream",
          "name": "stdout",
          "text": [
            "Doubled: 10\n",
            "5\n"
          ]
        }
      ]
    },
    {
      "cell_type": "code",
      "source": [
        "class Ex:\n",
        "  def __init__(self, value):\n",
        "    self.value = value\n",
        "    doubled = value * 2\n",
        "    print(doubled)\n",
        "\n",
        "obj = Ex(10)\n",
        "print(obj.value)"
      ],
      "metadata": {
        "colab": {
          "base_uri": "https://localhost:8080/"
        },
        "id": "rjcOztZbTQou",
        "outputId": "98bd6330-fbc0-44ab-c505-d8c454bd15b8"
      },
      "execution_count": null,
      "outputs": [
        {
          "output_type": "stream",
          "name": "stdout",
          "text": [
            "20\n",
            "10\n"
          ]
        }
      ]
    },
    {
      "cell_type": "code",
      "source": [
        "class MyDictionary:\n",
        "    def __init__(self, size=10):\n",
        "        # Create a fixed-size array (list of empty lists for separate chaining)\n",
        "        self.size = size\n",
        "        self.buckets = [[] for _ in range(size)]\n",
        "\n",
        "    def _hash(self, key):\n",
        "        \"\"\"Simple hash function: sum of character codes modulo table size\"\"\"\n",
        "        hash_value = 0\n",
        "        for char in str(key):  # Convert key to string if needed\n",
        "            hash_value += ord(char)\n",
        "        return hash_value % self.size\n",
        "\n",
        "    def insert(self, key, value):\n",
        "        \"\"\"Insert or update key-value pair\"\"\"\n",
        "        index = self._hash(key)\n",
        "        bucket = self.buckets[index]\n",
        "\n",
        "        # Check if key exists, update if found\n",
        "        for pair in bucket:\n",
        "            if pair[0] == key:\n",
        "                pair = value\n",
        "                return\n",
        "\n",
        "        # Otherwise, append new key-value pair\n",
        "        bucket.append([key, value])\n",
        "\n",
        "    def search(self, key):\n",
        "        \"\"\"Search for a value by key\"\"\"\n",
        "        index = self._hash(key)\n",
        "        bucket = self.buckets[index]\n",
        "\n",
        "        for pair in bucket:\n",
        "            if pair == key:\n",
        "                return pair\n",
        "        return None  # Key not found\n",
        "\n",
        "    def delete(self, key):\n",
        "        \"\"\"Delete a key-value pair\"\"\"\n",
        "        index = self._hash(key)\n",
        "        bucket = self.buckets[index]\n",
        "\n",
        "        for i, pair in enumerate(bucket):\n",
        "            if pair == key:\n",
        "                del bucket[i]\n",
        "                return True\n",
        "\n",
        "        return False  # Key not found\n",
        "\n",
        "    def display(self):\n",
        "        \"\"\"Display the hash table\"\"\"\n",
        "        for i, bucket in enumerate(self.buckets):\n",
        "            print(f\"Bucket {i}: {bucket}\")\n",
        "\n",
        "\n",
        "# Example usage:\n",
        "my_dict = MyDictionary(size=5)\n",
        "\n",
        "my_dict.insert(\"name\", \"Gulshan\")\n",
        "my_dict.insert(\"age\", 25)\n",
        "my_dict.insert(\"city\", \"New York\")\n",
        "my_dict.insert(\"email\", \"gulshan.crj26@gmail.com\")\n",
        "\n",
        "\n",
        "# print(\"Searching 'name':\", my_dict.search(\"name\"))\n",
        "# print(\"Searching 'age':\", my_dict.search(\"age\"))\n",
        "\n",
        "my_dict.display()\n",
        "\n",
        "# my_dict.delete(\"age\")\n",
        "# print(\"\\nAfter deleting 'age':\")\n",
        "# my_dict.display()\n"
      ],
      "metadata": {
        "colab": {
          "base_uri": "https://localhost:8080/"
        },
        "id": "T4CVmSU0VNIV",
        "outputId": "ac4b5d66-20eb-430f-f377-7a5d41ac3f0b"
      },
      "execution_count": 2,
      "outputs": [
        {
          "output_type": "stream",
          "name": "stdout",
          "text": [
            "Bucket 0: [['email', 'gulshan.crj26@gmail.com']]\n",
            "Bucket 1: [['age', 25], ['city', 'New York']]\n",
            "Bucket 2: [['name', 'Gulshan']]\n",
            "Bucket 3: []\n",
            "Bucket 4: []\n"
          ]
        }
      ]
    },
    {
      "cell_type": "markdown",
      "source": [
        "# Linear Probing"
      ],
      "metadata": {
        "id": "99zNMnEotvy1"
      }
    },
    {
      "cell_type": "code",
      "source": [
        "class LinearProbeHashTable:\n",
        "    def __init__(self, capacity):\n",
        "\n",
        "        self.capacity = capacity\n",
        "        self.keys = [None] * capacity\n",
        "        self.values = [None] * capacity\n",
        "        # 0: Empty, 1: Occupied, -1: Deleted\n",
        "        self.state = [0] * capacity\n",
        "        self.size = 0\n",
        "\n",
        "    def _hash_function(self, key):\n",
        "\n",
        "        return hash(key) % self.capacity\n",
        "\n",
        "    def insert(self, key, value):\n",
        "\n",
        "        if self.size == self.capacity:\n",
        "            print(\"Hash table is full. Cannot insert.\")\n",
        "            return\n",
        "\n",
        "        initial_index = self._hash_function(key)\n",
        "        index = initial_index\n",
        "\n",
        "        while True:\n",
        "            if self.state[index] == 0 or self.state[index] == -1:  # Empty or deleted slot\n",
        "                self.keys[index] = key\n",
        "                self.values[index] = value\n",
        "                self.state[index] = 1  # Mark as occupied\n",
        "                self.size += 1\n",
        "                return\n",
        "            elif self.keys[index] == key:  # Key already exists, update value\n",
        "                self.values[index] = value\n",
        "                return\n",
        "\n",
        "            index = (index + 1) % self.capacity\n",
        "            if index == initial_index:  # Looped back to initial index, table is full\n",
        "                print(f\"Error: Could not insert {key}. Table might be full or severely clustered.\")\n",
        "                return\n",
        "\n",
        "    def get(self, key):\n",
        "\n",
        "        initial_index = self._hash_function(key)\n",
        "        index = initial_index\n",
        "\n",
        "        while self.state[index] != 0:  # Continue as long as slot is not empty\n",
        "            if self.state[index] == 1 and self.keys[index] == key:\n",
        "                return self.values[index]\n",
        "\n",
        "            index = (index + 1) % self.capacity\n",
        "            if index == initial_index:  # Looped back, key not found\n",
        "                break\n",
        "        return None  # Key not found\n",
        "\n",
        "    def delete(self, key):\n",
        "\n",
        "        initial_index = self._hash_function(key)\n",
        "        index = initial_index\n",
        "\n",
        "        while self.state[index] != 0:\n",
        "            if self.state[index] == 1 and self.keys[index] == key:\n",
        "                self.keys[index] = None\n",
        "                self.values[index] = None\n",
        "                self.state[index] = -1  # Mark as deleted\n",
        "                self.size -= 1\n",
        "                return True\n",
        "\n",
        "            index = (index + 1) % self.capacity\n",
        "            if index == initial_index:\n",
        "                break\n",
        "        return False  # Key not found\n",
        "\n",
        "    def display(self):\n",
        "        \"\"\"\n",
        "        Prints the current state of the hash table.\n",
        "        \"\"\"\n",
        "        print(\"Hash Table:\")\n",
        "        for i in range(self.capacity):\n",
        "            status = \"Occupied\" if self.state[i] == 1 else (\"Deleted\" if self.state[i] == -1 else \"Empty\")\n",
        "            print(f\"Index {i}: Key={self.keys[i]}, Value={self.values[i]}, Status={status}\")\n",
        "\n",
        "# Example Usage\n",
        "if __name__ == \"__main__\":\n",
        "    hash_table = LinearProbeHashTable(10)\n",
        "\n",
        "    hash_table.insert(\"apple\", 10)\n",
        "    hash_table.insert(\"banana\", 20)\n",
        "    hash_table.insert(\"cherry\", 30)\n",
        "    hash_table.insert(\"date\", 40)\n",
        "    hash_table.insert(\"elderberry\", 50) # Will likely cause a collision and linear probe\n",
        "\n",
        "    hash_table.display()\n",
        "\n",
        "    print(f\"\\nValue for 'banana': {hash_table.get('banana')}\")\n",
        "    print(f\"Value for 'grape': {hash_table.get('grape')}\")\n",
        "\n",
        "    hash_table.delete(\"banana\")\n",
        "    print(\"\\nAfter deleting 'banana':\")\n",
        "    hash_table.display()\n",
        "\n",
        "    print(f\"\\nValue for 'banana' after deletion: {hash_table.get('banana')}\")\n",
        "    print(f\"Value for 'cherry': {hash_table.get('cherry')}\")"
      ],
      "metadata": {
        "colab": {
          "base_uri": "https://localhost:8080/"
        },
        "id": "TSwjty2ajg7s",
        "outputId": "32176499-2ea7-42f5-f445-c8aedc33f1bf"
      },
      "execution_count": 1,
      "outputs": [
        {
          "output_type": "stream",
          "name": "stdout",
          "text": [
            "Hash Table:\n",
            "Index 0: Key=None, Value=None, Status=Empty\n",
            "Index 1: Key=elderberry, Value=50, Status=Occupied\n",
            "Index 2: Key=None, Value=None, Status=Empty\n",
            "Index 3: Key=apple, Value=10, Status=Occupied\n",
            "Index 4: Key=banana, Value=20, Status=Occupied\n",
            "Index 5: Key=cherry, Value=30, Status=Occupied\n",
            "Index 6: Key=None, Value=None, Status=Empty\n",
            "Index 7: Key=date, Value=40, Status=Occupied\n",
            "Index 8: Key=None, Value=None, Status=Empty\n",
            "Index 9: Key=None, Value=None, Status=Empty\n",
            "\n",
            "Value for 'banana': 20\n",
            "Value for 'grape': None\n",
            "\n",
            "After deleting 'banana':\n",
            "Hash Table:\n",
            "Index 0: Key=None, Value=None, Status=Empty\n",
            "Index 1: Key=elderberry, Value=50, Status=Occupied\n",
            "Index 2: Key=None, Value=None, Status=Empty\n",
            "Index 3: Key=apple, Value=10, Status=Occupied\n",
            "Index 4: Key=None, Value=None, Status=Deleted\n",
            "Index 5: Key=cherry, Value=30, Status=Occupied\n",
            "Index 6: Key=None, Value=None, Status=Empty\n",
            "Index 7: Key=date, Value=40, Status=Occupied\n",
            "Index 8: Key=None, Value=None, Status=Empty\n",
            "Index 9: Key=None, Value=None, Status=Empty\n",
            "\n",
            "Value for 'banana' after deletion: None\n",
            "Value for 'cherry': 30\n"
          ]
        }
      ]
    },
    {
      "cell_type": "code",
      "source": [
        "class LinearProbingHashTable:\n",
        "    def __init__(self, size=10):\n",
        "        self.size = size\n",
        "        self.keys = [None] * size     # Stores keys\n",
        "        self.values = [None] * size   # Stores corresponding values\n",
        "\n",
        "    def _hash(self, key):\n",
        "        \"\"\"Simple hash function based on sum of character codes.\"\"\"\n",
        "        return sum(ord(char) for char in str(key)) % self.size\n",
        "\n",
        "    def insert(self, key, value):\n",
        "        \"\"\"Insert or update a key-value pair using linear probing.\"\"\"\n",
        "        index = self._hash(key)\n",
        "        original_index = index\n",
        "        while self.keys[index] is not None:\n",
        "            if self.keys[index] == key:\n",
        "                # Key already exists, update the value\n",
        "                self.values[index] = value\n",
        "                return\n",
        "            index = (index + 1) % self.size\n",
        "            if index == original_index:\n",
        "                raise Exception(\"Hash table is full\")\n",
        "\n",
        "        # Insert new key-value pair\n",
        "        self.keys[index] = key\n",
        "        self.values[index] = value\n",
        "\n",
        "    def search(self, key):\n",
        "        \"\"\"Search for a value by key using linear probing.\"\"\"\n",
        "        index = self._hash(key)\n",
        "        original_index = index\n",
        "        while self.keys[index] is not None:\n",
        "            if self.keys[index] == key:\n",
        "                return self.values[index]\n",
        "            index = (index + 1) % self.size\n",
        "            if index == original_index:\n",
        "                break\n",
        "        return None  # Key not found\n",
        "\n",
        "    def delete(self, key):\n",
        "        \"\"\"Delete a key-value pair using linear probing.\"\"\"\n",
        "        index = self._hash(key)\n",
        "        original_index = index\n",
        "        while self.keys[index] is not None:\n",
        "            if self.keys[index] == key:\n",
        "                self.keys[index] = None\n",
        "                self.values[index] = None\n",
        "                return True\n",
        "            index = (index + 1) % self.size\n",
        "            if index == original_index:\n",
        "                break\n",
        "        return False  # Key not found\n",
        "\n",
        "    def display(self):\n",
        "        \"\"\"Display the contents of the hash table.\"\"\"\n",
        "        for i in range(self.size):\n",
        "            print(f\"Index {i}: {self.keys[i]} -> {self.values[i]}\")\n",
        "\n",
        "# Example usage\n",
        "ht = LinearProbingHashTable(size=7)\n",
        "\n",
        "ht.insert(\"name\", \"Gulshan\")\n",
        "ht.insert(\"age\", 25)\n",
        "ht.insert(\"city\", \"Delhi\")\n",
        "ht.insert(\"email\", \"gulshan@example.com\")\n",
        "\n",
        "print(\"\\nHash Table Contents:\")\n",
        "ht.display()\n",
        "\n",
        "print(\"\\nSearch 'age':\", ht.search(\"age\"))\n",
        "\n",
        "ht.delete(\"city\")\n",
        "print(\"\\nAfter deleting 'city':\")\n",
        "ht.display()\n"
      ],
      "metadata": {
        "id": "A-SeL8Jeur3T",
        "outputId": "4977998e-1ac7-456b-957e-893db37b90b3",
        "colab": {
          "base_uri": "https://localhost:8080/"
        }
      },
      "execution_count": 3,
      "outputs": [
        {
          "output_type": "stream",
          "name": "stdout",
          "text": [
            "\n",
            "Hash Table Contents:\n",
            "Index 0: age -> 25\n",
            "Index 1: city -> Delhi\n",
            "Index 2: email -> gulshan@example.com\n",
            "Index 3: None -> None\n",
            "Index 4: name -> Gulshan\n",
            "Index 5: None -> None\n",
            "Index 6: None -> None\n",
            "\n",
            "Search 'age': 25\n",
            "\n",
            "After deleting 'city':\n",
            "Index 0: age -> 25\n",
            "Index 1: None -> None\n",
            "Index 2: email -> gulshan@example.com\n",
            "Index 3: None -> None\n",
            "Index 4: name -> Gulshan\n",
            "Index 5: None -> None\n",
            "Index 6: None -> None\n"
          ]
        }
      ]
    }
  ]
}