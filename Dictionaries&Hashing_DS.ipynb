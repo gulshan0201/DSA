{
  "nbformat": 4,
  "nbformat_minor": 0,
  "metadata": {
    "colab": {
      "provenance": []
    },
    "kernelspec": {
      "name": "python3",
      "display_name": "Python 3"
    },
    "language_info": {
      "name": "python"
    }
  },
  "cells": [
    {
      "cell_type": "code",
      "source": [
        "size = 10\n",
        "buckets = [[] for _ in range(size)]\n",
        "print(buckets)\n",
        "# Output: [[], [], [], []]"
      ],
      "metadata": {
        "colab": {
          "base_uri": "https://localhost:8080/"
        },
        "id": "OUpMZZinOfvB",
        "outputId": "86db2706-7578-49f4-d058-31f458cb37f5"
      },
      "execution_count": null,
      "outputs": [
        {
          "output_type": "stream",
          "name": "stdout",
          "text": [
            "[[], [], [], [], [], [], [], [], [], []]\n"
          ]
        }
      ]
    },
    {
      "cell_type": "code",
      "execution_count": null,
      "metadata": {
        "colab": {
          "base_uri": "https://localhost:8080/"
        },
        "id": "hFNgbfjENRN_",
        "outputId": "3fb11666-8a02-458a-b631-dbdc610aa853"
      },
      "outputs": [
        {
          "output_type": "stream",
          "name": "stdout",
          "text": [
            "{'names': 'Gulshan', 'age': 24, 'city': 'VZM'}\n"
          ]
        }
      ],
      "source": [
        "def dict(key , values):\n",
        "  my_dict= {}\n",
        "\n",
        "  if len(key) != len(values):\n",
        "    print(\"Error key and value must match the length\")\n",
        "    return None\n",
        "\n",
        "  for i in range(0, len(key)):\n",
        "    my_dict[key[i]] = values[i]\n",
        "\n",
        "  return my_dict\n",
        "\n",
        "\n",
        "key_list = [\"names\",\"age\",\"city\"]\n",
        "value_list = [\"Gulshan\", 24, \"VZM\"]\n",
        "\n",
        "result = dict(key_list, value_list)\n",
        "print(result)"
      ]
    },
    {
      "cell_type": "code",
      "source": [
        "class Example:\n",
        "    def __init__(self, value):\n",
        "        self.value = value   # Stored in object\n",
        "        doubled = value * 2  # Temporary, not stored in object\n",
        "        print(\"Doubled:\", doubled)\n",
        "\n",
        "obj = Example(5)\n",
        "print(obj.value)"
      ],
      "metadata": {
        "colab": {
          "base_uri": "https://localhost:8080/"
        },
        "id": "dx2gotUxSg0g",
        "outputId": "6acac95f-c18d-41aa-f4b5-bb1d0027d5a4"
      },
      "execution_count": null,
      "outputs": [
        {
          "output_type": "stream",
          "name": "stdout",
          "text": [
            "Doubled: 10\n",
            "5\n"
          ]
        }
      ]
    },
    {
      "cell_type": "code",
      "source": [
        "class Ex:\n",
        "  def __init__(self, value):\n",
        "    self.value = value\n",
        "    doubled = value * 2\n",
        "    print(doubled)\n",
        "\n",
        "obj = Ex(10)\n",
        "print(obj.value)"
      ],
      "metadata": {
        "colab": {
          "base_uri": "https://localhost:8080/"
        },
        "id": "rjcOztZbTQou",
        "outputId": "98bd6330-fbc0-44ab-c505-d8c454bd15b8"
      },
      "execution_count": null,
      "outputs": [
        {
          "output_type": "stream",
          "name": "stdout",
          "text": [
            "20\n",
            "10\n"
          ]
        }
      ]
    },
    {
      "cell_type": "code",
      "source": [
        "class MyDictionary:\n",
        "    def __init__(self, size=10):\n",
        "        # Create a fixed-size array (list of empty lists for separate chaining)\n",
        "        self.size = size\n",
        "        self.buckets = [[] for _ in range(size)]\n",
        "\n",
        "    def _hash(self, key):\n",
        "        \"\"\"Simple hash function: sum of character codes modulo table size\"\"\"\n",
        "        hash_value = 0\n",
        "        for char in str(key):  # Convert key to string if needed\n",
        "            hash_value += ord(char)\n",
        "        return hash_value % self.size\n",
        "\n",
        "    def insert(self, key, value):\n",
        "        \"\"\"Insert or update key-value pair\"\"\"\n",
        "        index = self._hash(key)\n",
        "        bucket = self.buckets[index]\n",
        "\n",
        "        # Check if key exists, update if found\n",
        "        for pair in bucket:\n",
        "            if pair[0] == key:\n",
        "                pair = value\n",
        "                return\n",
        "\n",
        "        # Otherwise, append new key-value pair\n",
        "        bucket.append([key, value])\n",
        "\n",
        "    def search(self, key):\n",
        "        \"\"\"Search for a value by key\"\"\"\n",
        "        index = self._hash(key)\n",
        "        bucket = self.buckets[index]\n",
        "\n",
        "        for pair in bucket:\n",
        "            if pair == key:\n",
        "                return pair\n",
        "        return None  # Key not found\n",
        "\n",
        "    def delete(self, key):\n",
        "        \"\"\"Delete a key-value pair\"\"\"\n",
        "        index = self._hash(key)\n",
        "        bucket = self.buckets[index]\n",
        "\n",
        "        for i, pair in enumerate(bucket):\n",
        "            if pair == key:\n",
        "                del bucket[i]\n",
        "                return True\n",
        "\n",
        "        return False  # Key not found\n",
        "\n",
        "    def display(self):\n",
        "        \"\"\"Display the hash table\"\"\"\n",
        "        for i, bucket in enumerate(self.buckets):\n",
        "            print(f\"Bucket {i}: {bucket}\")\n",
        "\n",
        "\n",
        "# Example usage:\n",
        "my_dict = MyDictionary(size=5)\n",
        "\n",
        "my_dict.insert(\"name\", \"Alice\")\n",
        "my_dict.insert(\"age\", 25)\n",
        "my_dict.insert(\"city\", \"New York\")\n",
        "my_dict.insert(\"email\", \"alice@example.com\")\n",
        "\n",
        "\n",
        "# print(\"Searching 'name':\", my_dict.search(\"name\"))\n",
        "# print(\"Searching 'age':\", my_dict.search(\"age\"))\n",
        "\n",
        "my_dict.display()\n",
        "\n",
        "# my_dict.delete(\"age\")\n",
        "# print(\"\\nAfter deleting 'age':\")\n",
        "# my_dict.display()\n"
      ],
      "metadata": {
        "colab": {
          "base_uri": "https://localhost:8080/"
        },
        "id": "T4CVmSU0VNIV",
        "outputId": "843a0895-4ded-4a27-def2-4753777bebb7"
      },
      "execution_count": null,
      "outputs": [
        {
          "output_type": "stream",
          "name": "stdout",
          "text": [
            "Bucket 0: [['email', 'alice@example.com']]\n",
            "Bucket 1: [['age', 25], ['city', 'New York']]\n",
            "Bucket 2: [['name', 'Alice']]\n",
            "Bucket 3: []\n",
            "Bucket 4: []\n"
          ]
        }
      ]
    },
    {
      "cell_type": "code",
      "source": [
        "def hash_function(key):\n",
        "  return key % 10\n",
        "\n",
        "print(hash_function(100))\n",
        "# hasfunction(101)"
      ],
      "metadata": {
        "id": "GVI8W-DEVrya",
        "colab": {
          "base_uri": "https://localhost:8080/"
        },
        "outputId": "0e5feb93-2d20-402e-def7-05fe82f714e1"
      },
      "execution_count": null,
      "outputs": [
        {
          "output_type": "stream",
          "name": "stdout",
          "text": [
            "0\n"
          ]
        }
      ]
    },
    {
      "cell_type": "code",
      "source": [
        "hash_table = [None] * 10  # A table of size 10\n",
        "\n",
        "def insert(hash_table, key, value):\n",
        "    index = hash_function(key)\n",
        "    hash_table[index] = value\n",
        "\n",
        "insert(hash_table, 101, 20)\n",
        "insert(hash_table, 102, 21)\n",
        "insert(hash_table, 103, 19)\n",
        "\n",
        "print(hash_table)\n"
      ],
      "metadata": {
        "colab": {
          "base_uri": "https://localhost:8080/"
        },
        "id": "ZO5XRM1ag89i",
        "outputId": "fe866e64-9b1e-4fd0-e4e6-84d270161f23"
      },
      "execution_count": null,
      "outputs": [
        {
          "output_type": "stream",
          "name": "stdout",
          "text": [
            "[None, 20, 21, 19, None, None, None, None, None, None]\n"
          ]
        }
      ]
    },
    {
      "cell_type": "code",
      "source": [
        "hash_table = [[] for _ in range(10)]  # Each slot is a list\n",
        "\n",
        "def insert(hash_table, key, value):\n",
        "    index = hash_function(key)\n",
        "    hash_table[index].append((key, value))\n",
        "\n",
        "insert(hash_table, 21, \"Alice\")\n",
        "insert(hash_table, 31, \"Bob\")\n",
        "\n",
        "print(hash_table[2])  # Output at index 1\n"
      ],
      "metadata": {
        "colab": {
          "base_uri": "https://localhost:8080/"
        },
        "id": "46ad05ugivey",
        "outputId": "d863f358-83e1-489b-9458-2e09d4b0e06a"
      },
      "execution_count": null,
      "outputs": [
        {
          "output_type": "stream",
          "name": "stdout",
          "text": [
            "[]\n"
          ]
        }
      ]
    },
    {
      "cell_type": "code",
      "source": [
        "class Dictionary:\n",
        "  def __init__(self, size=10):\n",
        "     self.size = size\n",
        "     self.buckets = [[] for _ in range(size)]\n",
        "\n",
        "  def _hash(self,key):\n",
        "    hash_value = 0\n",
        "    for char in str(key):\n",
        "      hash_value += ord(char)\n",
        "    return hash_value % self.size\n"
      ],
      "metadata": {
        "id": "a2Lo1x1u3LvY"
      },
      "execution_count": 25,
      "outputs": []
    }
  ]
}