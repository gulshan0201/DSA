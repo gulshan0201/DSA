{
  "nbformat": 4,
  "nbformat_minor": 0,
  "metadata": {
    "colab": {
      "provenance": [],
      "authorship_tag": "ABX9TyOWpm0MetpaNVBbQFYNzo7+",
      "include_colab_link": true
    },
    "kernelspec": {
      "name": "python3",
      "display_name": "Python 3"
    },
    "language_info": {
      "name": "python"
    }
  },
  "cells": [
    {
      "cell_type": "markdown",
      "metadata": {
        "id": "view-in-github",
        "colab_type": "text"
      },
      "source": [
        "<a href=\"https://colab.research.google.com/github/gulshan0201/DSA/blob/main/DSA_Practice.ipynb\" target=\"_parent\"><img src=\"https://colab.research.google.com/assets/colab-badge.svg\" alt=\"Open In Colab\"/></a>"
      ]
    },
    {
      "cell_type": "code",
      "execution_count": 4,
      "metadata": {
        "id": "rAAGWx_xOYad"
      },
      "outputs": [],
      "source": [
        "import math"
      ]
    },
    {
      "cell_type": "code",
      "source": [
        "# math.ceil(40.9)\n",
        "math.sqrt(20)"
      ],
      "metadata": {
        "colab": {
          "base_uri": "https://localhost:8080/"
        },
        "id": "anG0wtrLOexG",
        "outputId": "fbbab8d2-188e-4617-90c2-4e91f4eaf7c0"
      },
      "execution_count": 7,
      "outputs": [
        {
          "output_type": "execute_result",
          "data": {
            "text/plain": [
              "4.47213595499958"
            ]
          },
          "metadata": {},
          "execution_count": 7
        }
      ]
    },
    {
      "cell_type": "markdown",
      "source": [
        "## Why You Should Learn Data Structures and Algorithms\n",
        "\n",
        "Whether you're pursuing a career in software development or data science, it's almost certain that you'll be asked to solve programming problems like *reversing a linked list* or *balancing a binary tree* in a technical interview or coding assessment.\n",
        "\n",
        "It's well known, however, that you will almost never face these problems in your job as a software developer. So it's reasonable to wonder why such problems are asked in interviews and coding assessments. Solving programming problems demonstrates the following traits:\n",
        "\n",
        "1. You can **think about a problem systematically** and solve it systematically step-by-step.\n",
        "2. You can **envision different inputs, outputs, and edge cases** for programs you write.\n",
        "3. You can **communicate your ideas clearly** to co-workers and incorporate their suggestions.\n",
        "4. Most importantly, you can **convert your thoughts and ideas into working code** that's also readable.\n",
        "\n",
        "It's not your knowledge of specific data structures or algorithms that's tested in an interview, but your approach towards the problem. You may fail to solve the problem and still clear the interview or vice versa. In this course, you will learn the skills to both solve problems and clear interviews successfully."
      ],
      "metadata": {
        "id": "rAryWnrGPzYE"
      }
    },
    {
      "cell_type": "markdown",
      "source": [
        "## Problem\n",
        "\n",
        "> **QUESTION 1:** Alice has some cards with numbers written on them. She arranges the cards in decreasing order, and lays them out face down in a sequence on a table. She challenges Bob to pick out the card containing a given number by turning over as few cards as possible. Write a function to help Bob locate the card.\n",
        "\n",
        "<img src=\"https://i.imgur.com/mazym6s.png\" width=\"480\">\n",
        "\n",
        "This may seem like a simple problem, especially if you're familiar with the concept of _binary search_, but the strategy and technique we learning here will be widely applicable, and we'll soon use it to solve harder problems."
      ],
      "metadata": {
        "id": "EVOLACyZPqvu"
      }
    },
    {
      "cell_type": "markdown",
      "source": [
        "## The Method\n",
        "\n",
        "Upon reading the problem, you may get some ideas on how to solve it and your first instinct might be to start writing code. This is not the optimal strategy and you may end up spending a longer time trying to solve the problem due to coding errors, or may not be able to solve it at all.\n",
        "\n",
        "Here's a systematic strategy we'll apply for solving problems:\n",
        "\n",
        "1. State the problem clearly. Identify the input & output formats.\n",
        "2. Come up with some example inputs & outputs. Try to cover all edge cases.\n",
        "3. Come up with a correct solution for the problem. State it in plain English.\n",
        "4. Implement the solution and test it using example inputs. Fix bugs, if any.\n",
        "5. Analyze the algorithm's complexity and identify inefficiencies, if any.\n",
        "6. Apply the right technique to overcome the inefficiency. Repeat steps 3 to 6.\n",
        "\n",
        "_\"Applying the right technique\"_ is where the knowledge of common data structures and algorithms comes in handy.\n"
      ],
      "metadata": {
        "id": "zLpKQ-cQQTyT"
      }
    },
    {
      "cell_type": "code",
      "source": [],
      "metadata": {
        "id": "aJl1iD0xPJ17"
      },
      "execution_count": null,
      "outputs": []
    }
  ]
}