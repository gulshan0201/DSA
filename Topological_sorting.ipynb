{
  "nbformat": 4,
  "nbformat_minor": 0,
  "metadata": {
    "colab": {
      "provenance": [],
      "authorship_tag": "ABX9TyNp+w+bwUEPNd1Ans7RhCIw",
      "include_colab_link": true
    },
    "kernelspec": {
      "name": "python3",
      "display_name": "Python 3"
    },
    "language_info": {
      "name": "python"
    }
  },
  "cells": [
    {
      "cell_type": "markdown",
      "metadata": {
        "id": "view-in-github",
        "colab_type": "text"
      },
      "source": [
        "<a href=\"https://colab.research.google.com/github/gulshan0201/DSA/blob/main/Topological_sorting.ipynb\" target=\"_parent\"><img src=\"https://colab.research.google.com/assets/colab-badge.svg\" alt=\"Open In Colab\"/></a>"
      ]
    },
    {
      "cell_type": "code",
      "execution_count": null,
      "metadata": {
        "id": "B85HY5knuZjO"
      },
      "outputs": [],
      "source": [
        "def topologicalSortUtil(vj,adj,visited,stack):\n",
        "  visited = True\n",
        "\n",
        "  for k in adj[vj]:\n",
        "    if not visited[k]:\n",
        "      topologicalSortUtil(k, adj, visited, stack)\n",
        "  stack.append(vj)\n",
        "\n",
        "def topologicalSort(adj, V):\n",
        "  stack = []\n",
        "  visited = [False] * V\n",
        "  for i in range(V):\n",
        "    if not visited[i]:\n",
        "      topologicalSortUtil(i, adj, visited, stack)\n",
        "  print(stack.pop(), end=\"\")\n",
        "\n",
        "\n",
        "  v = 6\n",
        "  edges = [[5,0],[4,0],[4,1],[3,1],[2,3],[5,2]]\n",
        "  adj = [[] for _ in range(v)]\n",
        "  for i in range(len(edges)):\n",
        "    adj[edges[i][0]].append(edges[i][1])\n",
        "  topologicalSort(adj, v)"
      ]
    },
    {
      "cell_type": "code",
      "source": [
        "from collections import deque\n",
        "v=6\n",
        "edges =[[5,0],[4,0],[4,1],[3,1],[2,3],[5,2]]\n",
        "# edges = [[1,2],[2,0],[0,1]]\n",
        "\n",
        "def khans_topological_sort(V,edges):\n",
        "  adj = [[] for _ in range(V)]\n",
        "  in_degree  = [0] * V\n",
        "  for u,v in edges:\n",
        "    adj[u].append(v)\n",
        "    in_degree[v] += 1\n",
        "  queue = deque()\n",
        "  for i in range(V):\n",
        "    if in_degree[i] == 0:\n",
        "      queue.append(i)\n",
        "\n",
        "  result = []\n",
        "  while queue:\n",
        "    u = queue.popleft()\n",
        "    result.append(u)\n",
        "\n",
        "    for v in adj[u]:\n",
        "      in_degree[v] -= 1\n",
        "      if in_degree[v] == 0:\n",
        "        queue.append(v)\n",
        "\n",
        "  if len(result) != V:\n",
        "    print(\"Graph has a cycle\")\n",
        "  else:\n",
        "    print(\"Topological Sort:\", result)\n",
        "\n",
        "khans_topological_sort(v, edges)"
      ],
      "metadata": {
        "colab": {
          "base_uri": "https://localhost:8080/"
        },
        "id": "fY6dDpnJyfxJ",
        "outputId": "f6059288-30dd-433b-d674-5dbd8b02c673"
      },
      "execution_count": null,
      "outputs": [
        {
          "output_type": "stream",
          "name": "stdout",
          "text": [
            "Topological Sort: [4, 5, 0, 2, 3, 1]\n"
          ]
        }
      ]
    },
    {
      "cell_type": "code",
      "source": [],
      "metadata": {
        "id": "UXE693yr7nYy"
      },
      "execution_count": null,
      "outputs": []
    }
  ]
}