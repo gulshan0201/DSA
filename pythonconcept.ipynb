{
  "nbformat": 4,
  "nbformat_minor": 0,
  "metadata": {
    "colab": {
      "provenance": [],
      "authorship_tag": "ABX9TyPYhGVDQUm0KYt+ExlW9MPu",
      "include_colab_link": true
    },
    "kernelspec": {
      "name": "python3",
      "display_name": "Python 3"
    },
    "language_info": {
      "name": "python"
    }
  },
  "cells": [
    {
      "cell_type": "markdown",
      "metadata": {
        "id": "view-in-github",
        "colab_type": "text"
      },
      "source": [
        "<a href=\"https://colab.research.google.com/github/gulshan0201/DSA/blob/main/pythonconcept.ipynb\" target=\"_parent\"><img src=\"https://colab.research.google.com/assets/colab-badge.svg\" alt=\"Open In Colab\"/></a>"
      ]
    },
    {
      "cell_type": "code",
      "execution_count": null,
      "metadata": {
        "colab": {
          "base_uri": "https://localhost:8080/",
          "height": 472
        },
        "id": "adWsQ3OS7MOm",
        "outputId": "2995ac6d-218b-426d-ca34-952c18fd4d69"
      },
      "outputs": [
        {
          "output_type": "display_data",
          "data": {
            "text/plain": [
              "<Figure size 640x480 with 1 Axes>"
            ],
            "image/png": "[encoded data removed]"
          },
          "metadata": {}
        }
      ],
      "source": [
        "import matplotlib.pyplot as plt\n",
        "from scipy.spatial import ConvexHull\n",
        "import numpy as np\n",
        "\n",
        "# Simulated coordinates of detected objects (buildings, trees, etc.)\n",
        "points = np.array([\n",
        "    [2, 3], [3, 7], [5, 4], [6, 2], [7, 6], [4, 1], [2, 6], [6, 7], [3, 2]\n",
        "])\n",
        "\n",
        "# Compute the convex hull\n",
        "hull = ConvexHull(points)\n",
        "\n",
        "# Plotting\n",
        "plt.plot(points[:, 0], points[:, 1], 'o')  # plot points\n",
        "for simplex in hull.simplices:\n",
        "    plt.plot(points[simplex, 0], points[simplex, 1], 'r-')  # draw hull edges\n",
        "\n",
        "plt.title(\"Convex Hull of Drone-Detected Points\")\n",
        "plt.xlabel(\"X-coordinate\")\n",
        "plt.ylabel(\"Y-coordinate\")\n",
        "plt.grid(True)\n",
        "plt.gca().set_aspect('equal', adjustable='box')\n",
        "plt.show()\n"
      ]
    },
    {
      "cell_type": "code",
      "source": [
        "my_list = [\"raj\", \"govardhan\", \"chakri\"]\n",
        "\n",
        "removed_list = my_list.pop(1)\n",
        "\n",
        "print(removed_list)\n",
        "print(my_list)"
      ],
      "metadata": {
        "colab": {
          "base_uri": "https://localhost:8080/"
        },
        "id": "eMn9xG4PUGK5",
        "outputId": "7d5df1ca-d258-4418-8cca-1fc5d0187a83"
      },
      "execution_count": null,
      "outputs": [
        {
          "output_type": "stream",
          "name": "stdout",
          "text": [
            "govardhan\n",
            "['raj', 'chakri']\n"
          ]
        }
      ]
    },
    {
      "cell_type": "code",
      "source": [
        "my_list = [\"raj\", \"govardhan\", \"chakri\"]\n",
        "\n",
        "append_list = my_list.sort()\n",
        "print(append_list)\n",
        "print(my_list)"
      ],
      "metadata": {
        "colab": {
          "base_uri": "https://localhost:8080/"
        },
        "id": "ZRt1J3uWU0Ff",
        "outputId": "e8425b4c-7aeb-4262-aaa4-9c554b2aa5a3"
      },
      "execution_count": null,
      "outputs": [
        {
          "output_type": "stream",
          "name": "stdout",
          "text": [
            "None\n",
            "['chakri', 'govardhan', 'raj']\n"
          ]
        }
      ]
    },
    {
      "cell_type": "code",
      "source": [
        "# nested list\n",
        "\n",
        "list = [\n",
        "        [10, 20, 30],\n",
        "        [90, 50, 80],\n",
        "        [12, 32, 44]\n",
        "        ]\n",
        "print(list[1][1])"
      ],
      "metadata": {
        "colab": {
          "base_uri": "https://localhost:8080/"
        },
        "id": "UXED2rOtyTWq",
        "outputId": "d1b8d21c-6892-4348-ce88-5fc089dddf78"
      },
      "execution_count": null,
      "outputs": [
        {
          "output_type": "stream",
          "name": "stdout",
          "text": [
            "80\n"
          ]
        }
      ]
    },
    {
      "cell_type": "code",
      "source": [
        "fruits = [\"apple\", \"banana\", \"mango\"]\n",
        "\n",
        "for fruit in fruits:\n",
        "  print(fruit)"
      ],
      "metadata": {
        "colab": {
          "base_uri": "https://localhost:8080/"
        },
        "id": "cb8axO56z48u",
        "outputId": "22c93d2b-757c-4d30-bc9d-8b407e7a7b48"
      },
      "execution_count": null,
      "outputs": [
        {
          "output_type": "stream",
          "name": "stdout",
          "text": [
            "apple\n",
            "banana\n",
            "mango\n"
          ]
        }
      ]
    },
    {
      "cell_type": "code",
      "source": [
        "for letter in \"Raj\":\n",
        "  print(letter)"
      ],
      "metadata": {
        "colab": {
          "base_uri": "https://localhost:8080/"
        },
        "id": "WtogaX4C0Z-3",
        "outputId": "6bb2af79-e939-4d7a-9767-11b88587f66a"
      },
      "execution_count": null,
      "outputs": [
        {
          "output_type": "stream",
          "name": "stdout",
          "text": [
            "R\n",
            "a\n",
            "j\n"
          ]
        }
      ]
    },
    {
      "cell_type": "code",
      "source": [
        "for i in range(10):\n",
        "  print(i)\n"
      ],
      "metadata": {
        "id": "K6Efb07701bL",
        "outputId": "b307cc84-5bc6-46e4-e81d-70a92a9c92b1",
        "colab": {
          "base_uri": "https://localhost:8080/"
        }
      },
      "execution_count": null,
      "outputs": [
        {
          "output_type": "stream",
          "name": "stdout",
          "text": [
            "0\n",
            "1\n",
            "2\n",
            "3\n",
            "4\n",
            "5\n",
            "6\n",
            "7\n",
            "8\n",
            "9\n"
          ]
        }
      ]
    },
    {
      "cell_type": "code",
      "source": [
        "list = [1,2,4,5,87,9]\n",
        "r = list[-2]\n",
        "print(r)\n"
      ],
      "metadata": {
        "colab": {
          "base_uri": "https://localhost:8080/"
        },
        "id": "BfQ6saHJ9u3h",
        "outputId": "6f547f01-7e48-4abc-c518-406cfe459064"
      },
      "execution_count": null,
      "outputs": [
        {
          "output_type": "stream",
          "name": "stdout",
          "text": [
            "87\n"
          ]
        }
      ]
    },
    {
      "cell_type": "code",
      "source": [
        "student = {\n",
        "    \"name\": \"T Raj Shekhar\",\n",
        "    \"roll_no\": 102,\n",
        "    \"branch\": \"Mechanical\",\n",
        "    \"is_passed\": True\n",
        "}\n",
        "\n",
        "print(student[\"name\"])\n",
        "\n",
        "student[\"college\"] = \"DSCSDEC\"\n",
        "student[\"name\"] = \"Gulshan\"\n",
        "\n",
        "print(student)\n",
        "# del student[\"roll_no\"]\n",
        "print(student)\n"
      ],
      "metadata": {
        "colab": {
          "base_uri": "https://localhost:8080/"
        },
        "id": "AepIDFtd_VnB",
        "outputId": "5dd7d8d1-30bd-441a-bd51-f1c708b772f0"
      },
      "execution_count": null,
      "outputs": [
        {
          "output_type": "stream",
          "name": "stdout",
          "text": [
            "T Raj Shekhar\n",
            "{'name': 'Gulshan', 'roll_no': 102, 'branch': 'Mechanical', 'is_passed': True, 'college': 'DSCSDEC'}\n",
            "{'name': 'Gulshan', 'roll_no': 102, 'branch': 'Mechanical', 'is_passed': True, 'college': 'DSCSDEC'}\n"
          ]
        }
      ]
    },
    {
      "cell_type": "code",
      "source": [
        "for key, value in student.items():\n",
        "    print(key, \":\", value)"
      ],
      "metadata": {
        "colab": {
          "base_uri": "https://localhost:8080/"
        },
        "id": "bTsJYA1iAUaa",
        "outputId": "7f91b092-f01b-405d-fc9a-3efcdb1bb470"
      },
      "execution_count": null,
      "outputs": [
        {
          "output_type": "stream",
          "name": "stdout",
          "text": [
            "name : Gulshan\n",
            "roll_no : 102\n",
            "branch : Mechanical\n",
            "is_passed : True\n",
            "college : DSCSDEC\n"
          ]
        }
      ]
    },
    {
      "cell_type": "code",
      "source": [
        "from re import S\n",
        "student = {\n",
        "    \"name\": \"Gulshan\",\n",
        "     \"subjects\": ['Maths', 'English', 'Science']\n",
        "}\n",
        "\n",
        "print(student[\"subjects\"][1])"
      ],
      "metadata": {
        "colab": {
          "base_uri": "https://localhost:8080/"
        },
        "id": "NgxtRXt9b86e",
        "outputId": "fb0ad778-b444-4a1a-a335-62383885f226"
      },
      "execution_count": null,
      "outputs": [
        {
          "output_type": "stream",
          "name": "stdout",
          "text": [
            "English\n"
          ]
        }
      ]
    },
    {
      "cell_type": "code",
      "source": [
        "total = 0\n",
        "for i in range(1, 1000):\n",
        "    if i % 3 == 0 or i % 5 == 0:\n",
        "        total += i\n",
        "\n",
        "print(\"Sum of multiples of 3 or 5 below 1000 is:\", total)\n"
      ],
      "metadata": {
        "id": "EeXsk3HSfwfg",
        "colab": {
          "base_uri": "https://localhost:8080/"
        },
        "outputId": "11302ce3-55a0-4e04-84dc-343e5d439e20"
      },
      "execution_count": null,
      "outputs": [
        {
          "output_type": "stream",
          "name": "stdout",
          "text": [
            "Sum of multiples of 3 or 5 below 1000 is: 233168\n"
          ]
        }
      ]
    },
    {
      "cell_type": "code",
      "source": [
        "name = \"Gulshan\"\n",
        "\n",
        "for i in name:\n",
        "  print(i)"
      ],
      "metadata": {
        "colab": {
          "base_uri": "https://localhost:8080/"
        },
        "id": "55kFXmJz7zua",
        "outputId": "d12ce4dd-a2e6-4e49-8225-6626d5a618b7"
      },
      "execution_count": null,
      "outputs": [
        {
          "output_type": "stream",
          "name": "stdout",
          "text": [
            "G\n",
            "u\n",
            "l\n",
            "s\n",
            "h\n",
            "a\n",
            "n\n"
          ]
        }
      ]
    },
    {
      "cell_type": "code",
      "source": [
        "numbers = [10, 20, 212, 90]\n",
        "total = 0\n",
        "\n",
        "for num in numbers:\n",
        "  total += num\n",
        "\n",
        "print(\"sum =\", total)"
      ],
      "metadata": {
        "colab": {
          "base_uri": "https://localhost:8080/"
        },
        "id": "QMtO2VS-787C",
        "outputId": "f9f4fc27-3408-4585-cb12-d98b855a9f82"
      },
      "execution_count": null,
      "outputs": [
        {
          "output_type": "stream",
          "name": "stdout",
          "text": [
            "sum = 332\n"
          ]
        }
      ]
    },
    {
      "cell_type": "code",
      "source": [
        "for i in range(3):\n",
        "    print(\"Loop:\", i)\n",
        "else:\n",
        "    print(\"Loop khatam ho gaya\")\n"
      ],
      "metadata": {
        "colab": {
          "base_uri": "https://localhost:8080/"
        },
        "id": "PJG7i4Sh9j_m",
        "outputId": "9128bac4-1a91-491d-dfa9-5c129d676c87"
      },
      "execution_count": null,
      "outputs": [
        {
          "output_type": "stream",
          "name": "stdout",
          "text": [
            "Loop: 0\n",
            "Loop: 1\n",
            "Loop: 2\n",
            "Loop khatam ho gaya\n"
          ]
        }
      ]
    },
    {
      "cell_type": "code",
      "source": [
        "name = input(\"enter you name\")\n",
        "print(\"Hello\",name)"
      ],
      "metadata": {
        "colab": {
          "base_uri": "https://localhost:8080/"
        },
        "id": "Br9_e7kGM6CQ",
        "outputId": "b1aca774-4379-458c-d780-d147e801e4e1"
      },
      "execution_count": null,
      "outputs": [
        {
          "output_type": "stream",
          "name": "stdout",
          "text": [
            "enter you nameSam\n",
            "Hello Sam\n"
          ]
        }
      ]
    },
    {
      "cell_type": "code",
      "source": [
        "a, b = map(int, input(\"enter two no's: \").split())\n",
        "print(a + b)"
      ],
      "metadata": {
        "colab": {
          "base_uri": "https://localhost:8080/"
        },
        "id": "Wa-p6ONMNoxz",
        "outputId": "6703e17f-5174-4ffa-aaff-6cebd2bdd15c"
      },
      "execution_count": null,
      "outputs": [
        {
          "output_type": "stream",
          "name": "stdout",
          "text": [
            "enter two no's: 2 4\n",
            "6\n"
          ]
        }
      ]
    },
    {
      "cell_type": "code",
      "source": [
        "def square(x):\n",
        "  return x * x\n",
        "\n",
        "nums = [1,2,3,4]\n",
        "squares = list(map(square, nums))\n",
        "print(squares)"
      ],
      "metadata": {
        "colab": {
          "base_uri": "https://localhost:8080/"
        },
        "id": "CjA6Qzd3PczA",
        "outputId": "ce39fa3c-32ec-4eac-b193-6ec28e32b772"
      },
      "execution_count": null,
      "outputs": [
        {
          "output_type": "stream",
          "name": "stdout",
          "text": [
            "[1, 4, 9, 16]\n"
          ]
        }
      ]
    },
    {
      "cell_type": "code",
      "source": [
        "words = ['apple', 'banana', 'mango']\n",
        "\n",
        "length = list(map(len, words))\n",
        "print(length)"
      ],
      "metadata": {
        "colab": {
          "base_uri": "https://localhost:8080/"
        },
        "id": "ih23nxVlQbdu",
        "outputId": "e73b9bfb-958e-48e7-ea1e-938fd143b1b0"
      },
      "execution_count": null,
      "outputs": [
        {
          "output_type": "stream",
          "name": "stdout",
          "text": [
            "[5, 6, 5]\n"
          ]
        }
      ]
    },
    {
      "cell_type": "code",
      "source": [
        "import pandas as pd\n",
        "import numpy as np\n",
        "\n",
        "df = pd.DataFrame({'Price': [100,200,300,np.nan]})\n",
        "mean = df['Price'].mean()\n",
        "df['Price'] = df['Price'].replace(np.nan, mean)\n",
        "\n",
        "print(df)"
      ],
      "metadata": {
        "colab": {
          "base_uri": "https://localhost:8080/"
        },
        "id": "0Y32Hay8gLLi",
        "outputId": "0153b353-33a1-4df5-fee9-33e468311e3e"
      },
      "execution_count": null,
      "outputs": [
        {
          "output_type": "stream",
          "name": "stdout",
          "text": [
            "   Price\n",
            "0  100.0\n",
            "1  200.0\n",
            "2  300.0\n",
            "3  200.0\n"
          ]
        }
      ]
    },
    {
      "cell_type": "code",
      "source": [
        "loc = \"Bank\"\n",
        "if loc == \"Bank\":\n",
        "    print(\"Cars are cool!\")\n",
        "else:\n",
        "    print(\"I do not know much.\")"
      ],
      "metadata": {
        "id": "Ro7GQ_SdgvzF",
        "colab": {
          "base_uri": "https://localhost:8080/"
        },
        "outputId": "1e70a965-96eb-40d3-dc10-ec5e5cfee537"
      },
      "execution_count": null,
      "outputs": [
        {
          "output_type": "stream",
          "name": "stdout",
          "text": [
            "Cars are cool!\n"
          ]
        }
      ]
    },
    {
      "cell_type": "code",
      "source": [
        "class Student:\n",
        "    def __init__(self, name, roll):\n",
        "        self.name = name\n",
        "        self.roll = roll\n",
        "\n",
        "    def display(self):\n",
        "        print(f\"Name: {self.name}, Roll: {self.roll}\")\n",
        "\n",
        "s1 = Student(\"Raj\", 101)\n",
        "s1.display()\n"
      ],
      "metadata": {
        "colab": {
          "base_uri": "https://localhost:8080/"
        },
        "id": "53kS4i-blt0J",
        "outputId": "a3a3f4e5-0a40-475f-ab29-b5589c2a05b4"
      },
      "execution_count": null,
      "outputs": [
        {
          "output_type": "stream",
          "name": "stdout",
          "text": [
            "Name: Raj, Roll: 101\n"
          ]
        }
      ]
    },
    {
      "cell_type": "code",
      "source": [
        "mylist = [1, 2, 3, 4, 5, 6, 7, 8, 9, 10]\n",
        "\n",
        "for num in mylist:\n",
        "  if num % 2 == 0:\n",
        "    print(num)\n",
        "  else:\n",
        "    print(f\"Odd number: {num}\")\n"
      ],
      "metadata": {
        "id": "_zj71SBKdQe-",
        "colab": {
          "base_uri": "https://localhost:8080/",
          "height": 109
        },
        "outputId": "c49da31d-ada7-41ed-e23d-6f8a9a0f65ef"
      },
      "execution_count": null,
      "outputs": [
        {
          "output_type": "error",
          "ename": "IndentationError",
          "evalue": "expected an indented block after 'if' statement on line 4 (ipython-input-7-1399020467.py, line 6)",
          "traceback": [
            "\u001b[0;36m  File \u001b[0;32m\"/tmp/ipython-input-7-1399020467.py\"\u001b[0;36m, line \u001b[0;32m6\u001b[0m\n\u001b[0;31m    else:\u001b[0m\n\u001b[0m    ^\u001b[0m\n\u001b[0;31mIndentationError\u001b[0m\u001b[0;31m:\u001b[0m expected an indented block after 'if' statement on line 4\n"
          ]
        }
      ]
    },
    {
      "cell_type": "code",
      "source": [
        "class Battery:\n",
        "  def __init__(self, charge):\n",
        "    self.charge = charge\n",
        "\n",
        "  def is_charged(self):\n",
        "    return self_charge > 0\n",
        "\n",
        "  def use(self):\n",
        "    if self_charge > 0:\n",
        "      print(f\"Using battey....{self.charge}% remaining\")\n",
        "      charge -= 10\n",
        "    else:\n",
        "        print(\"Battery is empty\")\n",
        "\n",
        "    my_battery = Battery(charge=50)\n",
        "\n",
        "    while my_battery.is_charged():\n",
        "      my_battery.use()\n"
      ],
      "metadata": {
        "id": "bxA-nPFbkYtN"
      },
      "execution_count": null,
      "outputs": []
    },
    {
      "cell_type": "code",
      "source": [
        "mylist = [1,2,3,4,5,6,7,8,9,10]\n",
        "\n",
        "sum_list = 0\n",
        "\n",
        "for i in mylist:\n",
        "  sum_list += i\n",
        "\n",
        "  print(sum_list)"
      ],
      "metadata": {
        "id": "ZQqb9CkWmiQj",
        "colab": {
          "base_uri": "https://localhost:8080/"
        },
        "outputId": "b18fe21b-447f-479b-acfb-71f285d9d8ea"
      },
      "execution_count": null,
      "outputs": [
        {
          "output_type": "stream",
          "name": "stdout",
          "text": [
            "1\n",
            "3\n",
            "6\n",
            "10\n",
            "15\n",
            "21\n",
            "28\n",
            "36\n",
            "45\n",
            "55\n"
          ]
        }
      ]
    },
    {
      "cell_type": "code",
      "source": [
        "x = 5\n",
        "\n",
        "for i in range(x):\n",
        "  if i == 5:\n",
        "    break\n",
        "  print(i)"
      ],
      "metadata": {
        "colab": {
          "base_uri": "https://localhost:8080/"
        },
        "id": "969FGhL8VAnP",
        "outputId": "33c73193-056c-4923-b86f-46d62c52b40f"
      },
      "execution_count": null,
      "outputs": [
        {
          "output_type": "stream",
          "name": "stdout",
          "text": [
            "0\n",
            "1\n",
            "2\n",
            "3\n",
            "4\n"
          ]
        }
      ]
    },
    {
      "cell_type": "code",
      "source": [
        "index_count = 0\n",
        "\n",
        "for letter in 'abcd':\n",
        "  print('At index {} we have the letter {}'.format(index_count, letter))\n",
        "  index_count += 1"
      ],
      "metadata": {
        "colab": {
          "base_uri": "https://localhost:8080/"
        },
        "id": "qwUygVbWWpTz",
        "outputId": "67510402-68e7-4497-bb02-d76fd57553d7"
      },
      "execution_count": null,
      "outputs": [
        {
          "output_type": "stream",
          "name": "stdout",
          "text": [
            "At index 0 we have the letter a\n",
            "At index 1 we have the letter b\n",
            "At index 2 we have the letter c\n",
            "At index 3 we have the letter d\n"
          ]
        }
      ]
    },
    {
      "cell_type": "code",
      "source": [
        "mylist1 = [1,2,3,4,5]\n",
        "mylist2 = ['one','two','three','four','five']\n",
        "# print(zip(mylist1, mylist2))\n",
        "\n",
        "for i in zip(mylist1, mylist2):\n",
        "  print(i)"
      ],
      "metadata": {
        "colab": {
          "base_uri": "https://localhost:8080/"
        },
        "id": "TZFd5Z4DALo3",
        "outputId": "0e421dcf-3d2d-42a9-88c4-210120cf6ae0"
      },
      "execution_count": null,
      "outputs": [
        {
          "output_type": "stream",
          "name": "stdout",
          "text": [
            "(1, 'one')\n",
            "(2, 'two')\n",
            "(3, 'three')\n",
            "(4, 'four')\n",
            "(5, 'five')\n"
          ]
        }
      ]
    },
    {
      "cell_type": "code",
      "source": [
        "names = ['Alice', 'Bob', 'Charlie']\n",
        "scores = [85, 90, 95]\n",
        "\n",
        "for i in zip(names, scores):\n",
        "  print(i)"
      ],
      "metadata": {
        "colab": {
          "base_uri": "https://localhost:8080/"
        },
        "id": "6Q35MkOdHzjn",
        "outputId": "db6f92e7-f50f-434e-d8ea-a4c1c8be0ccd"
      },
      "execution_count": null,
      "outputs": [
        {
          "output_type": "stream",
          "name": "stdout",
          "text": [
            "('Alice', 85)\n",
            "('Bob', 90)\n",
            "('Charlie', 95)\n"
          ]
        }
      ]
    },
    {
      "cell_type": "code",
      "source": [
        "mystring = \"Gulshan\"\n",
        "\n",
        "mylist = []\n",
        "\n",
        "for letter in mystring:\n",
        "  mylist.append(letter)"
      ],
      "metadata": {
        "id": "dX7LOEM0KsvB"
      },
      "execution_count": null,
      "outputs": []
    },
    {
      "cell_type": "code",
      "source": [
        "mylist"
      ],
      "metadata": {
        "colab": {
          "base_uri": "https://localhost:8080/"
        },
        "id": "cami23xbOWxG",
        "outputId": "393c39fb-434c-4886-e348-7cc834597b20"
      },
      "execution_count": null,
      "outputs": [
        {
          "output_type": "execute_result",
          "data": {
            "text/plain": [
              "['G', 'u', 'l', 's', 'h', 'a', 'n']"
            ]
          },
          "metadata": {},
          "execution_count": 10
        }
      ]
    },
    {
      "cell_type": "code",
      "source": [
        "result = []\n",
        "for x in range(5):\n",
        "    result.append(x * 2)"
      ],
      "metadata": {
        "id": "Ty3jpdC6OlO4"
      },
      "execution_count": null,
      "outputs": []
    },
    {
      "cell_type": "code",
      "source": [
        "st = 'Print only the words that start with s in this sentence'\n",
        "\n",
        "for word in st.split():\n",
        "  if word.startswith('s'):\n",
        "    print(word)"
      ],
      "metadata": {
        "colab": {
          "base_uri": "https://localhost:8080/"
        },
        "id": "kGQFd3FQPwWK",
        "outputId": "9b630938-a9b7-48b7-eadf-512c369de1d1"
      },
      "execution_count": null,
      "outputs": [
        {
          "output_type": "stream",
          "name": "stdout",
          "text": [
            "start\n",
            "s\n",
            "sentence\n"
          ]
        }
      ]
    },
    {
      "cell_type": "code",
      "source": [
        "list = [x for x in range(1,51) if x % 3 == 0]"
      ],
      "metadata": {
        "id": "87GtE3mrxohb"
      },
      "execution_count": null,
      "outputs": []
    },
    {
      "cell_type": "code",
      "source": [
        "list"
      ],
      "metadata": {
        "colab": {
          "base_uri": "https://localhost:8080/"
        },
        "id": "Fipz1ysyx6Ao",
        "outputId": "0b5aea1c-ef1e-498a-b1da-8609b2c1d666"
      },
      "execution_count": null,
      "outputs": [
        {
          "output_type": "execute_result",
          "data": {
            "text/plain": [
              "[3, 6, 9, 12, 15, 18, 21, 24, 27, 30, 33, 36, 39, 42, 45, 48]"
            ]
          },
          "metadata": {},
          "execution_count": 32
        }
      ]
    },
    {
      "cell_type": "code",
      "source": [
        "# Go through the string below and if the length of a word is even print \"even!\"\n",
        "st = 'Print every word in this sentence that has an even number of letters'\n",
        "\n",
        "for x in st.split():\n",
        "  if len(x) % 2 == 0:\n",
        "    print(f\"{x}--> even\")\n"
      ],
      "metadata": {
        "id": "nh2I-Sgzx675",
        "colab": {
          "base_uri": "https://localhost:8080/"
        },
        "outputId": "af9ea4b1-ba6b-47c0-aebc-717b337f4ba6"
      },
      "execution_count": null,
      "outputs": [
        {
          "output_type": "stream",
          "name": "stdout",
          "text": [
            "word--> even\n",
            "in--> even\n",
            "this--> even\n",
            "sentence--> even\n",
            "that--> even\n",
            "an--> even\n",
            "even--> even\n",
            "number--> even\n",
            "of--> even\n"
          ]
        }
      ]
    },
    {
      "cell_type": "code",
      "source": [
        "x = [x for x in range(1,50) if x % 3 == 0 ]\n",
        "x"
      ],
      "metadata": {
        "colab": {
          "base_uri": "https://localhost:8080/"
        },
        "id": "fAVlIKiXtFxN",
        "outputId": "96a582d0-ca8a-44ca-e02d-5edadbf40d21"
      },
      "execution_count": null,
      "outputs": [
        {
          "output_type": "execute_result",
          "data": {
            "text/plain": [
              "[3, 6, 9, 12, 15, 18, 21, 24, 27, 30, 33, 36, 39, 42, 45, 48]"
            ]
          },
          "metadata": {},
          "execution_count": 6
        }
      ]
    },
    {
      "cell_type": "code",
      "source": [
        "st = 'Print every word in this sentence that has an even number of letters'\n",
        "\n",
        "for x in st.split():\n",
        "  if len(x) % 2 == 1:\n",
        "    print(f\"{x} is an odd no\")\n"
      ],
      "metadata": {
        "colab": {
          "base_uri": "https://localhost:8080/"
        },
        "id": "IdOTyfFftI8n",
        "outputId": "f60648d5-cd79-439a-82f9-56d7f1ce8d9d"
      },
      "execution_count": null,
      "outputs": [
        {
          "output_type": "stream",
          "name": "stdout",
          "text": [
            "Print is an odd no\n",
            "every is an odd no\n",
            "has is an odd no\n",
            "letters is an odd no\n"
          ]
        }
      ]
    },
    {
      "cell_type": "code",
      "source": [
        "st = 'Create a list of the first letters of every word in this string'\n",
        "\n",
        "m = [x[0] for x in st.split()]\n",
        "m"
      ],
      "metadata": {
        "id": "5V53CPcucjqT",
        "colab": {
          "base_uri": "https://localhost:8080/"
        },
        "outputId": "bf4766b5-ed63-4a31-b026-e8411ef2027f"
      },
      "execution_count": null,
      "outputs": [
        {
          "output_type": "execute_result",
          "data": {
            "text/plain": [
              "['C', 'a', 'l', 'o', 't', 'f', 'l', 'o', 'e', 'w', 'i', 't', 's']"
            ]
          },
          "metadata": {},
          "execution_count": 2
        }
      ]
    },
    {
      "cell_type": "code",
      "source": [
        "for x in range(1,50):\n",
        "  if x % 3 == 0 and x % 5 == 0:\n",
        "    print(\"fizzbuzz\")\n",
        "  elif x % 3 == 0:\n",
        "    print(\"fizz\")\n",
        "  elif x % 5 == 0:\n",
        "    print(\"buzz\")\n",
        "  else:\n",
        "    print(x)"
      ],
      "metadata": {
        "colab": {
          "base_uri": "https://localhost:8080/"
        },
        "id": "BxoYgvLAf1ln",
        "outputId": "6803c7cf-88c2-45e8-f614-a94b14d084a8"
      },
      "execution_count": null,
      "outputs": [
        {
          "output_type": "stream",
          "name": "stdout",
          "text": [
            "1\n",
            "2\n",
            "fizz\n",
            "4\n",
            "buzz\n",
            "fizz\n",
            "7\n",
            "8\n",
            "fizz\n",
            "buzz\n",
            "11\n",
            "fizz\n",
            "13\n",
            "14\n",
            "fizzbuzz\n",
            "16\n",
            "17\n",
            "fizz\n",
            "19\n",
            "buzz\n",
            "fizz\n",
            "22\n",
            "23\n",
            "fizz\n",
            "buzz\n",
            "26\n",
            "fizz\n",
            "28\n",
            "29\n",
            "fizzbuzz\n",
            "31\n",
            "32\n",
            "fizz\n",
            "34\n",
            "buzz\n",
            "fizz\n",
            "37\n",
            "38\n",
            "fizz\n",
            "buzz\n",
            "41\n",
            "fizz\n",
            "43\n",
            "44\n",
            "fizzbuzz\n",
            "46\n",
            "47\n",
            "fizz\n",
            "49\n"
          ]
        }
      ]
    },
    {
      "cell_type": "code",
      "source": [
        "listone = ['mango', 'apple', 'watermellon']\n",
        "\n",
        "# listone.append('grapes')\n",
        "# listone\n",
        "# listone.index('apple')\n",
        "c = listone.count('apple')\n",
        "print(c)\n",
        "# listone.insert(1, 'banana')\n",
        "# listone"
      ],
      "metadata": {
        "colab": {
          "base_uri": "https://localhost:8080/"
        },
        "id": "sIwkmwSogxvL",
        "outputId": "dc1ec0ac-cd25-4b93-eb95-78a5f7b0c8ea"
      },
      "execution_count": null,
      "outputs": [
        {
          "output_type": "stream",
          "name": "stdout",
          "text": [
            "1\n"
          ]
        }
      ]
    },
    {
      "cell_type": "code",
      "source": [
        "listtwo = ['mango', 'apple', 'watermellon']\n",
        "\n",
        "index = listtwo.index('apple')\n",
        "print(index)"
      ],
      "metadata": {
        "colab": {
          "base_uri": "https://localhost:8080/"
        },
        "id": "p-IefbrAirb3",
        "outputId": "ef6fd109-c464-4b52-88a3-8bdfb89e8fbf"
      },
      "execution_count": null,
      "outputs": [
        {
          "output_type": "stream",
          "name": "stdout",
          "text": [
            "1\n"
          ]
        }
      ]
    },
    {
      "cell_type": "code",
      "source": [
        "help(listtwo.count)"
      ],
      "metadata": {
        "colab": {
          "base_uri": "https://localhost:8080/"
        },
        "id": "UDLjW4D6kyfS",
        "outputId": "c4214a84-398f-45a1-9267-2bff446f0ef5"
      },
      "execution_count": null,
      "outputs": [
        {
          "output_type": "stream",
          "name": "stdout",
          "text": [
            "Help on built-in function count:\n",
            "\n",
            "count(value, /) method of builtins.list instance\n",
            "    Return number of occurrences of value.\n",
            "\n"
          ]
        }
      ]
    },
    {
      "cell_type": "code",
      "source": [
        "def greet(name):\n",
        "  print('Hello', name)\n",
        "\n",
        "greet(\"Gulshan\")\n",
        "greet(\"Raj\")"
      ],
      "metadata": {
        "colab": {
          "base_uri": "https://localhost:8080/"
        },
        "id": "PzYWmv4dlhWt",
        "outputId": "9582fd6b-4f6e-45f1-9ba0-baf146527afb"
      },
      "execution_count": null,
      "outputs": [
        {
          "output_type": "stream",
          "name": "stdout",
          "text": [
            "Hello Gulshan\n",
            "Hello Raj\n"
          ]
        }
      ]
    },
    {
      "cell_type": "code",
      "source": [
        "def add_function(a,b):\n",
        "  result = a + b\n",
        "  return(result)\n",
        "\n",
        "add_function(2,3)\n"
      ],
      "metadata": {
        "colab": {
          "base_uri": "https://localhost:8080/"
        },
        "id": "JCFS6b53n7yI",
        "outputId": "3f84e20b-d425-45a2-f25d-85cda3e285b0"
      },
      "execution_count": null,
      "outputs": [
        {
          "output_type": "execute_result",
          "data": {
            "text/plain": [
              "5"
            ]
          },
          "metadata": {},
          "execution_count": 46
        }
      ]
    },
    {
      "cell_type": "code",
      "source": [
        "def get_sum(a,b):\n",
        "  print(\"Sum in\", a + b)\n",
        "\n",
        "get_sum(3,2)"
      ],
      "metadata": {
        "colab": {
          "base_uri": "https://localhost:8080/"
        },
        "id": "qeTIugGhzlvp",
        "outputId": "40d05265-ac53-4395-c68d-284ff70a7c67"
      },
      "execution_count": null,
      "outputs": [
        {
          "output_type": "stream",
          "name": "stdout",
          "text": [
            "Sum in 5\n"
          ]
        }
      ]
    },
    {
      "cell_type": "code",
      "source": [
        "# prompt: Create a guessing game using while loop dont use any functions\n",
        "\n",
        "import random\n",
        "\n",
        "secret_number = random.randint(1, 10)\n",
        "guess = 0\n",
        "\n",
        "print(\"Welcome to the Guessing Game!\")\n",
        "print(\"I'm thinking of a number between 1 and 10.\")\n",
        "\n",
        "while guess != secret_number:\n",
        "    try:\n",
        "        guess = int(input(\"Enter your guess: \"))\n",
        "        if guess < secret_number:\n",
        "            print(\"Too low! Try again.\")\n",
        "        elif guess > secret_number:\n",
        "            print(\"Too high! Try again.\")\n",
        "    except ValueError:\n",
        "        print(\"Invalid input. Please enter a number.\")\n",
        "\n",
        "print(f\"Congratulations! You guessed the number {secret_number}!\")"
      ],
      "metadata": {
        "colab": {
          "base_uri": "https://localhost:8080/"
        },
        "id": "ywjcyrUy7jCQ",
        "outputId": "0a248045-6ed3-4533-f460-27d7d50c17de"
      },
      "execution_count": null,
      "outputs": [
        {
          "output_type": "stream",
          "name": "stdout",
          "text": [
            "Welcome to the Guessing Game!\n",
            "I'm thinking of a number between 1 and 10.\n",
            "Enter your guess: 2\n",
            "Too low! Try again.\n",
            "Enter your guess: 3\n",
            "Too low! Try again.\n",
            "Enter your guess: 7\n",
            "Too high! Try again.\n",
            "Enter your guess: 9\n",
            "Too high! Try again.\n",
            "Enter your guess: 5\n",
            "Congratulations! You guessed the number 5!\n"
          ]
        }
      ]
    },
    {
      "cell_type": "code",
      "source": [
        "def even_no(number):\n",
        "  for num in number:\n",
        "    if num % 2 == 0:\n",
        "      return True\n",
        "    else:\n",
        "      pass\n",
        "# even_no([1,3,5])\n",
        "even_no([1,3,5,4])"
      ],
      "metadata": {
        "id": "lJ8nedgO8yiA",
        "colab": {
          "base_uri": "https://localhost:8080/"
        },
        "outputId": "c3f2c34f-7107-416c-b57b-4bdf1f2f5666"
      },
      "execution_count": null,
      "outputs": [
        {
          "output_type": "execute_result",
          "data": {
            "text/plain": [
              "True"
            ]
          },
          "metadata": {},
          "execution_count": 16
        }
      ]
    },
    {
      "cell_type": "code",
      "source": [
        "def even_number(numbers):\n",
        "  even_no = []\n",
        "  for num in numbers:\n",
        "    if num % 2 != 0:\n",
        "      even_no.append(num)\n",
        "    else:\n",
        "      pass\n",
        "  return even_no\n",
        "\n",
        "even_number([1,2,3,4,5,6,7,8,9])"
      ],
      "metadata": {
        "id": "HI3h0KruI3sy",
        "colab": {
          "base_uri": "https://localhost:8080/"
        },
        "outputId": "c25bd80c-96de-4820-ecd3-144f3cb00d3e"
      },
      "execution_count": null,
      "outputs": [
        {
          "output_type": "execute_result",
          "data": {
            "text/plain": [
              "[1, 3, 5, 7, 9]"
            ]
          },
          "metadata": {},
          "execution_count": 5
        }
      ]
    },
    {
      "cell_type": "code",
      "source": [
        "def counting_no(numbers):\n",
        "  for num in numbers:\n",
        "    if num % 2 == 0:\n",
        "      return True\n",
        "    else:\n",
        "      pass\n",
        "counting_no([1,2,3,4,5])"
      ],
      "metadata": {
        "colab": {
          "base_uri": "https://localhost:8080/"
        },
        "id": "jT-vjTNQM9yw",
        "outputId": "b84d31a5-26d4-4a41-fb91-0f4cc43ae489"
      },
      "execution_count": null,
      "outputs": [
        {
          "output_type": "execute_result",
          "data": {
            "text/plain": [
              "True"
            ]
          },
          "metadata": {},
          "execution_count": 8
        }
      ]
    },
    {
      "cell_type": "code",
      "source": [
        "tuple = [('APPLE',20),('Google',30),('MVGR',40)]\n",
        "\n",
        "for n in tuple:\n",
        "  print(n)"
      ],
      "metadata": {
        "colab": {
          "base_uri": "https://localhost:8080/"
        },
        "id": "YC1HVUQZObE6",
        "outputId": "1b38a343-514d-4094-f686-7b7c9808988c"
      },
      "execution_count": null,
      "outputs": [
        {
          "output_type": "stream",
          "name": "stdout",
          "text": [
            "('APPLE', 20)\n",
            "('Google', 30)\n",
            "('MVGR', 40)\n"
          ]
        }
      ]
    },
    {
      "cell_type": "code",
      "source": [
        "for n,v in tuple:\n",
        "  print(v+(0.1*v))"
      ],
      "metadata": {
        "colab": {
          "base_uri": "https://localhost:8080/"
        },
        "id": "HlGcMRTIg72T",
        "outputId": "b473334b-b577-4de6-be9c-7cf2d9de16a2"
      },
      "execution_count": null,
      "outputs": [
        {
          "output_type": "stream",
          "name": "stdout",
          "text": [
            "22.0\n",
            "33.0\n",
            "44.0\n"
          ]
        }
      ]
    },
    {
      "cell_type": "code",
      "source": [
        "work_hours = [('Abby',100),('Billy',400),('Cassie',800)]\n",
        "\n",
        "def employee_check(work_hours):\n",
        "    current_max = 0\n",
        "    employee_of_month = ''\n",
        "    for employee, hours in work_hours:\n",
        "        if hours > current_max:\n",
        "            current_max = hours\n",
        "            employee_of_month = employee\n",
        "    return (employee_of_month, current_max)\n",
        "employee_check(work_hours)\n"
      ],
      "metadata": {
        "colab": {
          "base_uri": "https://localhost:8080/"
        },
        "id": "1auJ0UKohGmW",
        "outputId": "6aa960fe-e748-40a8-b29c-1c159eb3cecd"
      },
      "execution_count": null,
      "outputs": [
        {
          "output_type": "execute_result",
          "data": {
            "text/plain": [
              "('Cassie', 800)"
            ]
          },
          "metadata": {},
          "execution_count": 29
        }
      ]
    },
    {
      "cell_type": "code",
      "source": [
        "work_hours = [('Jhon',100), ('Doe',400), ('Mark',800)]\n",
        "\n"
      ],
      "metadata": {
        "colab": {
          "base_uri": "https://localhost:8080/"
        },
        "id": "ZaT9uIUf3B9i",
        "outputId": "0d3ba6cb-1ec6-42e1-c654-f9af90108684"
      },
      "execution_count": null,
      "outputs": [
        {
          "output_type": "execute_result",
          "data": {
            "text/plain": [
              "('Mark', 800)"
            ]
          },
          "metadata": {},
          "execution_count": 37
        }
      ]
    },
    {
      "cell_type": "code",
      "source": [
        "def evalating_marks(name,s1,s2,s3):\n",
        "  total = s1 + s2 + s3\n",
        "  average = total / 3\n",
        "  grade = \"\"  # Initialize the grade variable\n",
        "\n",
        "  if total >= 90:\n",
        "    grade = \"Grade A\"\n",
        "    print(\"Grade A\")\n",
        "  elif total >= 80:\n",
        "    grade = \"Grade B\"\n",
        "    print(\"Grade B\")\n",
        "  elif total >= 70:\n",
        "    grade = \"Grade c\"\n",
        "    print(\"Grade c\")\n",
        "  elif total >= 60:\n",
        "    grade = \"Grade D\"\n",
        "    print(\"Grade D\")\n",
        "  else:\n",
        "    grade = \"Grade E\"\n",
        "    print(\"Grade E\")\n",
        "\n",
        "  return total, average, grade\n",
        "\n",
        "student_name_input = input(\"Enter your student name\")\n",
        "mark1 = int(input(\"Enter marks of subject 1\"))\n",
        "mark2 = int(input(\"Enter marks of subject 2\"))\n",
        "mark3 = int(input(\"Enter marks of subject 3\"))\n",
        "\n",
        "student_total, student_average, student_grade = evalating_marks(student_name_input, mark1, mark2, mark3)\n",
        "\n",
        "print(f\"Student Name: {student_name_input}\")\n",
        "print(f\"Total Marks: {student_total}\")\n",
        "print(f\"Average Marks: {student_average}\")\n",
        "print(f\"Grade: {student_grade}\")"
      ],
      "metadata": {
        "colab": {
          "base_uri": "https://localhost:8080/"
        },
        "id": "b71pr5Nr8tOx",
        "outputId": "ef9837a5-7a9d-4c80-cfce-267c8bd77723"
      },
      "execution_count": null,
      "outputs": [
        {
          "output_type": "stream",
          "name": "stdout",
          "text": [
            "Enter your student nameSam\n",
            "Enter marks of subject 190\n",
            "Enter marks of subject 288\n",
            "Enter marks of subject 391\n",
            "Grade A\n",
            "Student Name: Sam\n",
            "Total Marks: 269\n",
            "Average Marks: 89.66666666666667\n",
            "Grade: Grade A\n"
          ]
        }
      ]
    },
    {
      "cell_type": "code",
      "source": [
        "example = [2,1,5,4,3,9,8,6]\n",
        "\n",
        "from random import shuffle\n",
        "\n",
        "shuffle(example)\n",
        "\n",
        "example\n"
      ],
      "metadata": {
        "id": "6eeMOwN0SDZq",
        "colab": {
          "base_uri": "https://localhost:8080/"
        },
        "outputId": "1b500b32-47e4-40f0-adc7-93c34fda1264"
      },
      "execution_count": null,
      "outputs": [
        {
          "output_type": "execute_result",
          "data": {
            "text/plain": [
              "[1, 6, 8, 3, 9, 2, 4, 5]"
            ]
          },
          "metadata": {},
          "execution_count": 1
        }
      ]
    },
    {
      "cell_type": "code",
      "source": [
        "import random\n",
        "\n",
        "def play_three_cup_monte():\n",
        "    cups = ['empty', 'ball', 'empty']\n",
        "    random.shuffle(cups)\n",
        "\n",
        "    print(\"Three Cup Monte - Try to find the ball!\")\n",
        "    guess = int(input(\"Pick a cup (1, 2, or 3): \")) - 1\n",
        "\n",
        "    if cups[guess] == 'ball':\n",
        "        print(\"🎉 Correct! You found the ball!\")\n",
        "    else:\n",
        "        print(\"❌ Wrong! The ball was under cup\", cups.index('ball') + 1)\n",
        "\n",
        "# Run the game\n",
        "play_three_cup_monte()\n"
      ],
      "metadata": {
        "colab": {
          "base_uri": "https://localhost:8080/"
        },
        "id": "zMuIayIxwlZO",
        "outputId": "3c93cf52-861b-4d53-a61f-5f17347067e4"
      },
      "execution_count": null,
      "outputs": [
        {
          "output_type": "stream",
          "name": "stdout",
          "text": [
            "Three Cup Monte - Try to find the ball!\n",
            "Pick a cup (1, 2, or 3): 3\n",
            "🎉 Correct! You found the ball!\n"
          ]
        }
      ]
    },
    {
      "cell_type": "code",
      "source": [
        "def myfunc(a,b,c=0,d=0,e=0):\n",
        "  return sum((a,b,c,d,e)) * 0.05\n",
        "\n",
        "myfunc(2,5,100,100,100)"
      ],
      "metadata": {
        "id": "pmkYveXT4ZR4",
        "colab": {
          "base_uri": "https://localhost:8080/"
        },
        "outputId": "858c653c-8442-4ac6-fa7b-a9d653290a8b"
      },
      "execution_count": null,
      "outputs": [
        {
          "output_type": "execute_result",
          "data": {
            "text/plain": [
              "15.350000000000001"
            ]
          },
          "metadata": {},
          "execution_count": 7
        }
      ]
    },
    {
      "cell_type": "code",
      "source": [
        "def argsfunc(*args):\n",
        "  return sum(args) * 0.05\n",
        "\n",
        "argsfunc(10,20)"
      ],
      "metadata": {
        "colab": {
          "base_uri": "https://localhost:8080/"
        },
        "id": "7MHYcsKzu7W6",
        "outputId": "b2b57e35-ddac-43bc-a6b2-a0c536f9cbdd"
      },
      "execution_count": null,
      "outputs": [
        {
          "output_type": "execute_result",
          "data": {
            "text/plain": [
              "1.5"
            ]
          },
          "metadata": {},
          "execution_count": 10
        }
      ]
    },
    {
      "cell_type": "code",
      "source": [
        "def multiply(*args):\n",
        "  result = 1\n",
        "  for num in args:\n",
        "    result *= num\n",
        "  return result\n",
        "\n",
        "multiply(1,2,3,4,5)\n"
      ],
      "metadata": {
        "colab": {
          "base_uri": "https://localhost:8080/"
        },
        "id": "h3-_EW6z0SME",
        "outputId": "ec727c02-13bb-40ba-de19-c2d681e27fcc"
      },
      "execution_count": null,
      "outputs": [
        {
          "output_type": "execute_result",
          "data": {
            "text/plain": [
              "120"
            ]
          },
          "metadata": {},
          "execution_count": 21
        }
      ]
    },
    {
      "cell_type": "code",
      "source": [
        "def sumfucn(a,b):\n",
        "  return sum((a,b))\n",
        "\n",
        "sumfucn(10,20)\n"
      ],
      "metadata": {
        "id": "-igZYrM83iP4",
        "colab": {
          "base_uri": "https://localhost:8080/"
        },
        "outputId": "3f44563d-527e-4ab8-daf5-94ec16e6cd87"
      },
      "execution_count": null,
      "outputs": [
        {
          "output_type": "execute_result",
          "data": {
            "text/plain": [
              "30"
            ]
          },
          "metadata": {},
          "execution_count": 3
        }
      ]
    },
    {
      "cell_type": "code",
      "source": [
        "def anyfunc(*args):\n",
        "\n",
        "  result = 1\n",
        "\n",
        "  for num in args:\n",
        "    result *= num\n",
        "  return result\n",
        "\n",
        "anyfunc(1,2,3,4,5)"
      ],
      "metadata": {
        "id": "TsP-6aetT31-",
        "colab": {
          "base_uri": "https://localhost:8080/"
        },
        "outputId": "c2d71304-a23c-47f4-edd2-094162d58cb2"
      },
      "execution_count": null,
      "outputs": [
        {
          "output_type": "execute_result",
          "data": {
            "text/plain": [
              "120"
            ]
          },
          "metadata": {},
          "execution_count": 3
        }
      ]
    },
    {
      "cell_type": "code",
      "source": [
        "def samplefunc(*args, **kwargs):\n",
        "  # print(args)\n",
        "  print('I like {} {}'.format(args[1], kwargs['food']))\n",
        "\n",
        "samplefunc(10,20,30, fruit='apple', food='eggs', animal='dog')"
      ],
      "metadata": {
        "colab": {
          "base_uri": "https://localhost:8080/"
        },
        "id": "PfpmgfcFzuTA",
        "outputId": "aceccfb9-4ef4-4504-e435-8b1309f28e07"
      },
      "execution_count": null,
      "outputs": [
        {
          "output_type": "stream",
          "name": "stdout",
          "text": [
            "(10, 20, 30)\n",
            "I like 20 eggs\n"
          ]
        }
      ]
    },
    {
      "cell_type": "code",
      "source": [
        "def myfunction(**kwargs):\n",
        "  if 'fruit' in kwargs:\n",
        "    print('My fruit choice is {}'.format(kwargs['fruit']))\n",
        "  else:\n",
        "    print('I did not find any fruit here')\n",
        "\n",
        "myfunction(fruit='apple', veggie='lettuce')\n"
      ],
      "metadata": {
        "colab": {
          "base_uri": "https://localhost:8080/"
        },
        "id": "nfNrQ3531ppO",
        "outputId": "208c1f70-2e65-470f-e472-e90dfbde7fe7"
      },
      "execution_count": null,
      "outputs": [
        {
          "output_type": "stream",
          "name": "stdout",
          "text": [
            "My fruit choice is apple\n"
          ]
        }
      ]
    },
    {
      "cell_type": "code",
      "source": [
        "import numpy as np\n",
        "w = np.array([0.4, 0.6])\n",
        "x = np.array([10, 5])\n",
        "b = 2\n",
        "y = np.dot(w, x) + b  # = (0.4*10 + 0.6*5 + 2)\n",
        "print(y)\n"
      ],
      "metadata": {
        "id": "1HlFO7hXNa9Z",
        "colab": {
          "base_uri": "https://localhost:8080/"
        },
        "outputId": "e8e044a2-81f3-4d9a-d3bb-891657815764"
      },
      "execution_count": null,
      "outputs": [
        {
          "output_type": "stream",
          "name": "stdout",
          "text": [
            "9.0\n"
          ]
        }
      ]
    },
    {
      "cell_type": "code",
      "source": [
        "import numpy as np\n",
        "n = np.array([1,2,3])\n",
        "print(n.T)\n",
        "print(n.shape)"
      ],
      "metadata": {
        "colab": {
          "base_uri": "https://localhost:8080/"
        },
        "id": "JlTvQUjaJ8E8",
        "outputId": "25c981ad-99ea-49c0-c98c-fe9df14b36b1"
      },
      "execution_count": null,
      "outputs": [
        {
          "output_type": "stream",
          "name": "stdout",
          "text": [
            "[1 2 3]\n",
            "(3,)\n"
          ]
        }
      ]
    },
    {
      "cell_type": "code",
      "source": [
        "a = np.array([1,2,3])\n",
        "b = np.array([4,9,8])\n",
        "print(np.dot(a,b))"
      ],
      "metadata": {
        "colab": {
          "base_uri": "https://localhost:8080/"
        },
        "id": "fMuXobp9KCJr",
        "outputId": "492e83df-920a-4263-a459-8eaf404aa0da"
      },
      "execution_count": null,
      "outputs": [
        {
          "output_type": "stream",
          "name": "stdout",
          "text": [
            "46\n"
          ]
        }
      ]
    },
    {
      "cell_type": "code",
      "source": [
        "X = np.array([[1, 2100, 3],\n",
        "              [1, 1600, 2],\n",
        "              [1, 2400, 4]])  # shape (3, 3) — 3 examples, 2 features + bias\n",
        "\n",
        "w = np.array([5000, 100, -200])  # shape (3,)\n",
        "\n",
        "y_pred = np.matmul(X,w)\n",
        "print(y_pred)  # predicted prices\n"
      ],
      "metadata": {
        "colab": {
          "base_uri": "https://localhost:8080/"
        },
        "id": "uzLrXiLoKlDr",
        "outputId": "cc14794f-8de7-470b-f2b6-ec3a1a1a125c"
      },
      "execution_count": null,
      "outputs": [
        {
          "output_type": "stream",
          "name": "stdout",
          "text": [
            "[214400 164600 244200]\n"
          ]
        }
      ]
    },
    {
      "cell_type": "code",
      "source": [
        "# LESSER OF TWO EVENS: Write a function that returns the lesser of two given numbers if both numbers are even,\n",
        "# but returns the greater if one or both numbers are odd\n",
        "def lesser(a,b):\n",
        "  if a % 2 == 0 and b % 2 == 0:\n",
        "    return min(a,b)\n",
        "  else:\n",
        "    return max(a,b)\n",
        "\n",
        "lesser(2,4)"
      ],
      "metadata": {
        "colab": {
          "base_uri": "https://localhost:8080/"
        },
        "id": "yAajYGY_nBF-",
        "outputId": "3029cc73-fa3f-472f-dbe4-43db95291ad1"
      },
      "execution_count": null,
      "outputs": [
        {
          "output_type": "execute_result",
          "data": {
            "text/plain": [
              "2"
            ]
          },
          "metadata": {},
          "execution_count": 11
        }
      ]
    },
    {
      "cell_type": "code",
      "source": [
        "# ANIMAL CRACKERS: Write a function takes a two-word string and returns True if both words begin with same letter\n",
        "def function_one(text):\n",
        "  word1, word2 = text.split()\n",
        "  return word1[0] == word2[0]\n",
        "\n",
        "function_one('neck nose')"
      ],
      "metadata": {
        "colab": {
          "base_uri": "https://localhost:8080/"
        },
        "id": "xvE6VIF2nEoD",
        "outputId": "063b1cc5-dc7d-4248-a1da-3f975a6259ad"
      },
      "execution_count": null,
      "outputs": [
        {
          "output_type": "execute_result",
          "data": {
            "text/plain": [
              "True"
            ]
          },
          "metadata": {},
          "execution_count": 8
        }
      ]
    },
    {
      "cell_type": "code",
      "source": [
        "# MAKES TWENTY: Given two integers, return True if the sum of the integers is 20 or if one of the integers is 20. If not, return False\n",
        "def twenty(n1,n2):\n",
        "  return (n1==n2) or n1==20 or n2==20\n",
        "\n",
        "twenty(10,20)"
      ],
      "metadata": {
        "colab": {
          "base_uri": "https://localhost:8080/"
        },
        "id": "SKi6-R3PpHdT",
        "outputId": "f876d5c8-f0cc-48e1-d5d9-c95ad14755ad"
      },
      "execution_count": null,
      "outputs": [
        {
          "output_type": "execute_result",
          "data": {
            "text/plain": [
              "True"
            ]
          },
          "metadata": {},
          "execution_count": 10
        }
      ]
    },
    {
      "cell_type": "code",
      "source": [
        "def capitalize(name):\n",
        "  if len(name) > 3:\n",
        "    return name[:3].capitalize() + name[3:].capitalize()\n",
        "  else:\n",
        "    return 'Name too short'\n",
        "\n",
        "capitalize('gulshan')"
      ],
      "metadata": {
        "colab": {
          "base_uri": "https://localhost:8080/",
          "height": 36
        },
        "id": "eoJHT0sZqEY6",
        "outputId": "45df3931-48fb-4309-bec1-129244c7e08b"
      },
      "execution_count": null,
      "outputs": [
        {
          "output_type": "execute_result",
          "data": {
            "text/plain": [
              "'GulShan'"
            ],
            "application/vnd.google.colaboratory.intrinsic+json": {
              "type": "string"
            }
          },
          "metadata": {},
          "execution_count": 15
        }
      ]
    },
    {
      "cell_type": "code",
      "source": [
        "# prompt: write a function which take argument name and capitalize the even letter of the name\n",
        "\n",
        "def capitalize_even_letters(name):\n",
        "  result = \"\"\n",
        "  for i in range(len(name)):\n",
        "    if i % 2 == 0:\n",
        "      result += name[i].upper()\n",
        "    else:\n",
        "      result += name[i]\n",
        "  return result\n",
        "\n",
        "print(capitalize_even_letters(\"example name\"))\n",
        "print(capitalize_even_letters(\"test\"))"
      ],
      "metadata": {
        "colab": {
          "base_uri": "https://localhost:8080/"
        },
        "id": "JFskG0R6uaDE",
        "outputId": "cf66e060-8c05-4342-e615-61f5224a8c11"
      },
      "execution_count": null,
      "outputs": [
        {
          "output_type": "stream",
          "name": "stdout",
          "text": [
            "ExAmPlE NaMe\n",
            "TeSt\n"
          ]
        }
      ]
    },
    {
      "cell_type": "code",
      "source": [
        "def capitalize_even(name):\n",
        "  result = ''\n",
        "  for i in range(len(name)):\n",
        "    if i % 2 == 0:\n",
        "      result += name[i].upper()\n",
        "    else:\n",
        "      result += name[i]\n",
        "    return result"
      ],
      "metadata": {
        "id": "7KjNwDqkvTAZ"
      },
      "execution_count": null,
      "outputs": []
    },
    {
      "cell_type": "code",
      "source": [
        "def countfunc(numbers):\n",
        "  result = ''\n",
        "  for i in range(numbers):\n",
        "    if i % 2 == 0:\n",
        "      result += numbers[i]\n"
      ],
      "metadata": {
        "id": "0nUD-je2xhYX"
      },
      "execution_count": null,
      "outputs": []
    },
    {
      "cell_type": "code",
      "source": [
        "data = {\"Name\": \"Gulshan\", \"Roll\": \"Ten\", \"Height\": \"Six\"}\n",
        "data"
      ],
      "metadata": {
        "colab": {
          "base_uri": "https://localhost:8080/"
        },
        "id": "FbsyB-DnSI_Q",
        "outputId": "0dcc3a82-e7e7-4d38-8d61-cabd276efa77"
      },
      "execution_count": null,
      "outputs": [
        {
          "output_type": "execute_result",
          "data": {
            "text/plain": [
              "{'Name': 'Gulshan', 'Roll': 'Ten', 'Height': 'Six'}"
            ]
          },
          "metadata": {},
          "execution_count": 2
        }
      ]
    },
    {
      "cell_type": "code",
      "source": [
        "# prompt: create a list in python and assign some keys  values to it\n",
        "\n",
        "# create a list in python and assign some keys values to it\n",
        "my_list = []\n",
        "# You can append dictionaries to a list\n",
        "my_list.append({\"key1\": \"value1\", \"key2\": \"value2\"})\n",
        "my_list.append({\"key3\": \"value3\", \"key4\": \"value4\"})\n",
        "\n",
        "print(my_list)\n",
        "\n",
        "# Or you can create a list of tuples (key, value)\n",
        "my_list_of_tuples = [(\"key1\", \"value1\"), (\"key2\", \"value2\")]\n",
        "print(my_list_of_tuples)\n",
        "\n",
        "# Or you can create a list of lists (key, value pairs)\n",
        "my_list_of_lists = [[\"key1\", \"value1\"], [\"key2\", \"value2\"]]\n",
        "my_list_of_lists\n"
      ],
      "metadata": {
        "id": "Ehs7Ec6JSW56"
      },
      "execution_count": null,
      "outputs": []
    },
    {
      "cell_type": "code",
      "source": [
        "data_list = [{\"name\": \"Gulshan\", \"age\": 20}, {\"name\": \"Mark\", \"age\": 25}]\n",
        "data_list\n",
        "\n",
        "for i in data_list:\n",
        "  print(i)"
      ],
      "metadata": {
        "colab": {
          "base_uri": "https://localhost:8080/"
        },
        "id": "AF0I0LcSSx5X",
        "outputId": "c6ed4321-875e-43f7-9450-93c19974fc67"
      },
      "execution_count": null,
      "outputs": [
        {
          "output_type": "stream",
          "name": "stdout",
          "text": [
            "{'name': 'Gulshan', 'age': 20}\n",
            "{'name': 'Mark', 'age': 25}\n"
          ]
        }
      ]
    },
    {
      "cell_type": "code",
      "source": [],
      "metadata": {
        "id": "rl9WO5nITkzO"
      },
      "execution_count": null,
      "outputs": []
    }
  ]
}