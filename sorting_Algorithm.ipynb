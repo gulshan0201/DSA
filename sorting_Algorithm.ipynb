{
  "nbformat": 4,
  "nbformat_minor": 0,
  "metadata": {
    "colab": {
      "provenance": []
    },
    "kernelspec": {
      "name": "python3",
      "display_name": "Python 3"
    },
    "language_info": {
      "name": "python"
    }
  },
  "cells": [
    {
      "cell_type": "code",
      "source": [
        "def bubble_sort(arr):\n",
        "  n = len(arr)\n",
        "\n",
        "  for i in range(n-1):\n",
        "    swapped = False\n",
        "    for j in range(n-i-1):\n",
        "      if arr[j] > arr[j+1]:\n",
        "        arr[j], arr[j+1] = arr[j+1], arr[j]\n",
        "        swapped = True\n",
        "        if not swapped:\n",
        "          break\n",
        "        return arr\n",
        "\n",
        "arr = [10,90,55,1,21,11]\n",
        "print(arr)\n",
        "\n",
        "bubble_sort(arr)\n",
        "print(arr)"
      ],
      "metadata": {
        "colab": {
          "base_uri": "https://localhost:8080/"
        },
        "id": "rNMjXmDwk2ff",
        "outputId": "ad3778ce-2e58-443b-c2b4-509109fba993"
      },
      "execution_count": 3,
      "outputs": [
        {
          "output_type": "stream",
          "name": "stdout",
          "text": [
            "[10, 90, 55, 1, 21, 11]\n",
            "[10, 55, 90, 1, 21, 11]\n"
          ]
        }
      ]
    },
    {
      "cell_type": "code",
      "source": [
        "def selection_sort(arr):\n",
        "    n = len(arr)\n",
        "\n",
        "    for i in range(n):\n",
        "        min_index = i\n",
        "\n",
        "        for j in range(i + 1, n):\n",
        "            if arr[j] < arr[min_index]:\n",
        "                min_index = j\n",
        "\n",
        "        # Swap once after finding min_index\n",
        "        arr[i], arr[min_index] = arr[min_index], arr[i]\n",
        "\n",
        "arr = [10,90,55,1,21,11]\n",
        "print(arr)\n",
        "\n",
        "selection_sort(arr)\n",
        "print(arr)"
      ],
      "metadata": {
        "colab": {
          "base_uri": "https://localhost:8080/"
        },
        "id": "2X8f9sJTpvIy",
        "outputId": "2f8f8fe3-f15b-4f83-92df-52f7399cccd5"
      },
      "execution_count": null,
      "outputs": [
        {
          "output_type": "stream",
          "name": "stdout",
          "text": [
            "[10, 90, 55, 1, 21, 11]\n",
            "[1, 10, 11, 21, 55, 90]\n"
          ]
        }
      ]
    },
    {
      "cell_type": "code",
      "source": [
        "def selection_sort(arr):\n",
        "  n = len(arr)\n",
        "\n",
        "  for i in range(n):\n",
        "    min_index = i\n",
        "\n",
        "    for j in range(i+1, n):\n",
        "      if arr[j] < arr[min_index]:\n",
        "        min_index = j\n",
        "      arr[i], arr[min_index] = arr[min_index], arr[i]\n",
        "      return arr\n",
        "\n",
        "arr = [10,90,55,1,21,11]\n",
        "print(arr)\n",
        "\n",
        "selection_sort(arr)\n",
        "print(arr)"
      ],
      "metadata": {
        "colab": {
          "base_uri": "https://localhost:8080/"
        },
        "id": "uSOAwGRjYcSA",
        "outputId": "580204af-2a1d-4bd8-e68a-1793c75adbae"
      },
      "execution_count": 6,
      "outputs": [
        {
          "output_type": "stream",
          "name": "stdout",
          "text": [
            "[10, 90, 55, 1, 21, 11]\n",
            "[10, 90, 55, 1, 21, 11]\n"
          ]
        }
      ]
    },
    {
      "cell_type": "code",
      "source": [
        "def insertion_sort(arr):\n",
        "    for i in range(1, len(arr)):\n",
        "        key = arr[i]\n",
        "        j = i-1\n",
        "        while j >= 0 and arr[j] > key:\n",
        "            arr[j+1] = arr[j]\n",
        "            j -= 1\n",
        "        arr[j+1] = key\n",
        "    return arr\n",
        "\n",
        "print(insertion_sort([12, 11, 13, 5, 6]))\n"
      ],
      "metadata": {
        "id": "IkC9rRAbxfXr",
        "colab": {
          "base_uri": "https://localhost:8080/"
        },
        "outputId": "1dc74565-a2a0-457c-d59f-56fd3391d97d"
      },
      "execution_count": 19,
      "outputs": [
        {
          "output_type": "stream",
          "name": "stdout",
          "text": [
            "[5, 6, 11, 12, 13]\n"
          ]
        }
      ]
    },
    {
      "cell_type": "markdown",
      "source": [
        "# Quick sort Algorithm"
      ],
      "metadata": {
        "id": "OVJIqP1c9aVa"
      }
    },
    {
      "cell_type": "code",
      "source": [
        "def quick_sort(arr):\n",
        "  if len(arr) <= 1:\n",
        "    return arr\n",
        "  pivot = arr[len(arr) // 2]\n",
        "  left = [x for x in arr if x < pivot]\n",
        "  middle = [x for x in arr if x == pivot]\n",
        "  right = [x for x in arr if x > pivot]\n",
        "  return quick_sort(left) + middle + quick_sort(right)\n",
        "\n",
        "my_list = [19,10,11,20,45,90]\n",
        "sorted = quick_sort(my_list)\n",
        "print(sorted)\n",
        "\n",
        "# quick_sort([1])"
      ],
      "metadata": {
        "id": "TJ2Mf0Gcofnl",
        "colab": {
          "base_uri": "https://localhost:8080/"
        },
        "outputId": "b91f1868-4c2f-41e2-e1bd-41979b462ca2"
      },
      "execution_count": null,
      "outputs": [
        {
          "output_type": "stream",
          "name": "stdout",
          "text": [
            "[10, 11, 19, 20, 45, 90]\n"
          ]
        }
      ]
    }
  ]
}